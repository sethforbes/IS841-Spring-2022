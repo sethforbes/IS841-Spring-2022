{
  "nbformat": 4,
  "nbformat_minor": 0,
  "metadata": {
    "colab": {
      "provenance": [],
      "collapsed_sections": [
        "Bm_A9hsn2-1X",
        "6jX_GeCk3kH0"
      ],
      "include_colab_link": true
    },
    "kernelspec": {
      "name": "python3",
      "display_name": "Python 3"
    }
  },
  "cells": [
    {
      "cell_type": "markdown",
      "metadata": {
        "id": "view-in-github",
        "colab_type": "text"
      },
      "source": [
        "<a href=\"https://colab.research.google.com/github/sethforbes/IS841-Spring-2022/blob/main/Forbes%2C_Seth_Part_3.ipynb\" target=\"_parent\"><img src=\"https://colab.research.google.com/assets/colab-badge.svg\" alt=\"Open In Colab\"/></a>"
      ]
    },
    {
      "cell_type": "markdown",
      "source": [
        "# IS754 Lab06 Part 3"
      ],
      "metadata": {
        "id": "BLE77I1MmrsL"
      }
    },
    {
      "cell_type": "markdown",
      "metadata": {
        "id": "Bm_A9hsn2-1X"
      },
      "source": [
        "# Working with the OS and Files"
      ]
    },
    {
      "cell_type": "markdown",
      "metadata": {
        "id": "W0cvmK2Dymuv"
      },
      "source": [
        "In python, we will frequently want to use code that others have written to make our job easier. In other words, we need to work with **modules** (often called libraries in other languages). A lot of the core functionality that Python offers is broken up into separate modules that you need to import into your code if you want to use.  The standard way of doing this is:\n",
        "```\n",
        "import modulename\n",
        "```\n",
        "\n",
        "or, if you want to import it as a different name:\n",
        "\n",
        "```\n",
        "import modulename as someName\n",
        "```\n",
        "\n",
        "You may also see\n",
        "```\n",
        "from modulename import object\n",
        "```\n",
        "which is used to import one of the objects that a module contains.\n",
        "\n",
        "\n",
        "Here we will import the os module to access some elements of the filesystem.\n",
        "\n",
        "Every operating system provides functionality to programs -- one part of which is accessing and manipulating the file system. This will allow us to do things like:\n",
        "* get or change the current working directory\n",
        "* access environment variables\n",
        "* navigate the file system (deal with file paths)\n",
        "* work with users and groups\n",
        "\n",
        "Here we will only use it to get the name of the OS and to get the current working directory."
      ]
    },
    {
      "cell_type": "code",
      "metadata": {
        "id": "p3k3OzbjypEt"
      },
      "source": [
        "import os # import the os module\n",
        "\n",
        "#get the name of the os\n",
        "print(os.name)\n",
        "print(os.getcwd())\n",
        "\n",
        "#os.mkdir('./test')\n"
      ],
      "execution_count": null,
      "outputs": []
    },
    {
      "cell_type": "markdown",
      "metadata": {
        "id": "2CxUGpH6_JKM"
      },
      "source": [
        "Now lets open a file for writing, write some content into it and close the file."
      ]
    },
    {
      "cell_type": "code",
      "metadata": {
        "id": "469KJpNn9gWl"
      },
      "source": [
        "myfile = open('myfile.txt','w') # open a file for writing\n",
        "myfile.write(\"Hello World.\\n\") # write a line to the file\n",
        "myfile.close() # close the file"
      ],
      "execution_count": null,
      "outputs": []
    },
    {
      "cell_type": "markdown",
      "metadata": {
        "id": "55MAQjKQ_hif"
      },
      "source": [
        "However, there is a more common way that is used to open files or really any object that has a notion of \"open\" and \"close\" (or \"enter\" and \"exit\") -- such as a resource that you want to use temporarily but eventually let go.\n",
        "\n",
        "The approach I'm talking about is the  \"with... as\" pattern and it looks like this:\n",
        "```\n",
        "with someValue as someVariable:\n",
        "  do something with someVariable here\n",
        "```\n",
        "\n",
        "You don't have to worry too much about what is happening here -- I just want you to be aware of the \"with...as\" pattern because it is useful, used regularly by many, and you will see it again later when we talk about neural networks.  [You can read more about it if you want](https://www.geeksforgeeks.org/with-statement-in-python/), but for now just think of it as a way to ensure that the file is closed properly after we write to it."
      ]
    },
    {
      "cell_type": "code",
      "metadata": {
        "id": "BE8PEQAq_N13"
      },
      "source": [
        "# There's another more common way to open a file that ensures that it will be closed when you are done:\n",
        "with open('myfile2.txt','w') as f:\n",
        "  f.write(\"Testing.\")\n",
        "# notice we don't have to call f.close()"
      ],
      "execution_count": null,
      "outputs": []
    },
    {
      "cell_type": "markdown",
      "metadata": {
        "id": "HSF43xkt1f5o"
      },
      "source": [
        "After running the above two code cells, you have actually created files on the machine that google is using to host your colab session. Where are these files? (I'm glad you asked).\n",
        "\n",
        "You  can see the files on a Google Colab hosted machine by clicking the little right arrow to open up the navigation  pane:\n",
        "<img src=\"https://drive.google.com/uc?id=1datflIPAEGViv9IRUCSAm5rTbqM1tHFZ\" width=400>\n",
        "\n",
        "This is the navigation pane. Now select the Files tab:\n",
        "<img src=\"https://drive.google.com/uc?id=1-bQ-6798HfIZ5YbueBED8CpcxsCHxidR\" width=700>\n",
        "\n",
        "Double click on \"myfile.txt\". You should see it open on the screen and display the contents of the file.  Have a look at both files that you created. You can even edit the contents of the files if you want and save them using this very lightweight editor. Try this out now and save it, then we'll read the file back again to see what you wrote.\n",
        "\n",
        "We can also open an existing file for reading. The procedure is similar, but instead of using the argument 'w' (for 'write') in the open() function, we will use 'r' (for 'read'):\n",
        "\n"
      ]
    },
    {
      "cell_type": "code",
      "metadata": {
        "id": "DyJVK4HwzBHF"
      },
      "source": [
        "with open('myfile.txt','r') as f:\n",
        "  lines=f.readlines() # the readlines() method of the file object will return all the lines in the file as a list (one element for each line)\n",
        "\n",
        "print(type(lines))\n",
        "print(lines)"
      ],
      "execution_count": null,
      "outputs": []
    },
    {
      "cell_type": "markdown",
      "metadata": {
        "id": "7pZlcxyLE6ap"
      },
      "source": [
        "Notice that the `readlines()` method of the file object returns a list.\n",
        "\n",
        "Also notice that the newline character ('\\n') terminates the string. Often you will have to process the lines of a file if you want to get rid of these and other artifacts.\n",
        "\n",
        "It is also possible to open a *binary* file for writing or reading with the 'wb' and 'wr' arguments, if you want to store binary information in a file.\n",
        "\n",
        "We can use the os module to do more. For example, we can create a new directory. Let's try this now:\n"
      ]
    },
    {
      "cell_type": "code",
      "metadata": {
        "id": "-YGacSdchsiZ"
      },
      "source": [
        "# Use the os module to create a new directory\n",
        "os.mkdir('./test') # this will create a new folder called \"test\" in the current working directory.\n",
        "#  The \"./\" means \"here\", as in \"I want you to make the folder test here, in the current working directory\"\n",
        "\n",
        "# We can now change the working directory to the one we just created.\n",
        "os.chdir(\"./test\")\n",
        "print(os.getcwd())\n",
        "\n",
        "os.chdir(\"/content\") # change the current working directory back again"
      ],
      "execution_count": null,
      "outputs": []
    },
    {
      "cell_type": "markdown",
      "metadata": {
        "id": "aDsxF-U2ibz3"
      },
      "source": [
        "Note that we can use the file browser in google colab to see the directory we just created. We can right click on it to delete it if we want.\n",
        "\n",
        "More details on the os module can be found in [the Python3 docs for os](https://docs.python.org/3.8/library/os.html)\n",
        "\n",
        "More details on working with files can be found in [the Python3 docs for files](https://docs.python.org/3.8/tutorial/inputoutput.html?highlight=files#reading-and-writing-files)"
      ]
    },
    {
      "cell_type": "markdown",
      "source": [
        "# Copy in needed content\n",
        "You will need to copy the code creating a list of actors you made earlier into this workbook.  You will also need the dictionary of actor-to-role as well.  Copy-and-paste these below:"
      ],
      "metadata": {
        "id": "eXU8zYNmLO52"
      }
    },
    {
      "cell_type": "code",
      "source": [
        "# Copy and paste the code you wrote to create a list of actors below:\n",
        "lst = [\"Denzel Washington\", \"Sandra Bullock\", \"Megan Good\"]\n",
        "\n",
        "# Copy and paste the code you wrote to create a dictionary of actors and their characters below:\n",
        "dict = {\"Denzel Washington\":\"Out of Time\", \"Sandra Bullock\":\"The Heat\", \"Megan Good\":\"Roll Bounce\"}\n"
      ],
      "metadata": {
        "id": "V96iRUxGLakC"
      },
      "execution_count": null,
      "outputs": []
    },
    {
      "cell_type": "markdown",
      "metadata": {
        "id": "6jX_GeCk3kH0"
      },
      "source": [
        "# Deliverable: Working with Files"
      ]
    },
    {
      "cell_type": "markdown",
      "metadata": {
        "id": "CnA_iNnnKOd1"
      },
      "source": [
        "Often, programs use files to store information so that it persists even after the program has been closed.  This could include information that the user entered, the state of the program, custom settings the user may have changed and so on.\n",
        "\n",
        "In order to do this, the programmer has to translate this information into something that can be saved in a file (or many files). Remember a text file is just a sequence of characters (including commas, new lines, etc.). A binary file is just a sequence of bits.  We have to know how to interpret these characters or bits in order to make sense of the file. In other words, we have to know the format of the file. Let's understand this by trying to make our own file format.\n",
        "\n",
        "Do the following in the code blocks below:\n",
        "1. Write a program to save to a file the list of actors in your favorite movie that you made earlier.\n",
        " - note: you cannot just \"write\" a list to a file using f.write(someList). You can only write strings to a text file, so you will have to loop over its elements.\n",
        "2. Write a program to open the file you created in (1) and read from it to \"re-create\" the list of actors in your favorite movie from the file.\n"
      ]
    },
    {
      "cell_type": "code",
      "metadata": {
        "id": "i1rbpPPJX29O"
      },
      "source": [
        "# 1. Below, write a program to write the list of actors in your favorite movie to a file\n",
        "lst = [\"Denzel Washington\", \"Sandra Bullock\", \"Megan Good\"]\n",
        "myfile = open('my_file.text', 'w')\n",
        "for element in lst:\n",
        "  myfile.write(element + \"\\n\")\n",
        "myfile.close()"
      ],
      "execution_count": null,
      "outputs": []
    },
    {
      "cell_type": "code",
      "metadata": {
        "id": "FXP1F9SQYCUW",
        "colab": {
          "base_uri": "https://localhost:8080/"
        },
        "outputId": "9f9b31d9-15b6-4877-c06d-96d3a2e0c9a9"
      },
      "source": [
        "# 2. Below, write a program to open the file from (1) and read the list of actors in your favorite movie into a list. Then, print out the list.\n",
        "with open ('my_file.text') as f:\n",
        "  contents = f.read()\n",
        "  print(contents)"
      ],
      "execution_count": null,
      "outputs": [
        {
          "output_type": "stream",
          "name": "stdout",
          "text": [
            "Denzel Washington\n",
            "Sandra Bullock\n",
            "Megan Good\n",
            "\n"
          ]
        }
      ]
    },
    {
      "cell_type": "markdown",
      "metadata": {
        "id": "wzyNrJZfYN9a"
      },
      "source": [
        "Congratulations!  Now you know how to save a list of strings to a file.\n",
        "\n",
        "What about a more complicated structure like a dictionary?  Remember, a dictionary stores key/value pairs. If you wanted to write the contents of a dictionary to a file, you need a way to distinguish each pair from one another and to distinguish the key from the value.\n",
        "\n",
        "Do the following in the code blocks below:\n",
        "3. Write a program to save to a file the dictionary of character names/actor names that you made earlier.\n",
        " - note: that you cannot just \"write\" a dictionary to a file using f.write(someDictionary). You can only write strings to a text file, so you will have to loops over the items of the dictionary and come up with a scheme -- i.e., find a way to write the key and the value together in some way that you can distinguish them.\n",
        "    - Hint: You can make use of special characters (such as \",\" or \":\") as *separators* to separate the key part fron the value part of a single string. You may need to use string methods like join() and split().\n",
        "4. Write a program to open the file you created in (3) and read from it to \"recreate\" the the dictionary of character names/actor names in your favorite movie.\n",
        "  - Hint: Whatever scheme you decided to use in (3) to distinguish the key part from the value part of a string, you will have to be aware of it and use string methods like split() to break up the string into its separate parts.\n",
        "\n",
        "\n",
        "\n"
      ]
    },
    {
      "cell_type": "code",
      "metadata": {
        "id": "qygTKzwAa9sM"
      },
      "source": [
        "# 3. Below, write a program to write the dictionary of character names/actor names into a file.\n",
        "import json\n",
        "dict1 = {\"Denzel Washington\":\"Out of Time\", \"Sandra Bullock\":\"The Heat\", \"Megan Good\":\"Roll Bounce\"}\n",
        "dictfile = open('my_dict.text', 'w')\n",
        "for key, value in dict1.items():\n",
        "  dictfile.write('%s:%s\\n' % (key, value))\n",
        "dictfile.close()"
      ],
      "execution_count": null,
      "outputs": []
    },
    {
      "cell_type": "code",
      "metadata": {
        "id": "3SDn6yrabIuR",
        "colab": {
          "base_uri": "https://localhost:8080/"
        },
        "outputId": "30f96ea0-73f8-4dcf-afc9-b7b06570bbee"
      },
      "source": [
        "# 4. Below, write a program to open the file from (3) and read the contents and recreate the dictionary of character names/actor names. Then, print out the dictionary.\n",
        "with open ('my_dict.text') as f:\n",
        "  contents = f.read()\n",
        "  print(contents)\n",
        "\n"
      ],
      "execution_count": null,
      "outputs": [
        {
          "output_type": "stream",
          "name": "stdout",
          "text": [
            "Denzel Washington:Out of Time\n",
            "Sandra Bullock:The Heat\n",
            "Megan Good:Roll Bounce\n",
            "\n"
          ]
        }
      ]
    },
    {
      "cell_type": "markdown",
      "source": [
        "# When complete, get a classmate or the TA to signoff."
      ],
      "metadata": {
        "id": "g7TIWScfnXbL"
      }
    }
  ]
}