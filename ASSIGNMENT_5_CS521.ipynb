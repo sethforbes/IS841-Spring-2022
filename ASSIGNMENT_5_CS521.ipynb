{
  "nbformat": 4,
  "nbformat_minor": 0,
  "metadata": {
    "colab": {
      "provenance": [],
      "authorship_tag": "ABX9TyNWzskFDqS9D0LBkWYjktqS",
      "include_colab_link": true
    },
    "kernelspec": {
      "name": "python3",
      "display_name": "Python 3"
    },
    "language_info": {
      "name": "python"
    }
  },
  "cells": [
    {
      "cell_type": "markdown",
      "metadata": {
        "id": "view-in-github",
        "colab_type": "text"
      },
      "source": [
        "<a href=\"https://colab.research.google.com/github/sethforbes/IS841-Spring-2022/blob/main/ASSIGNMENT_5_CS521.ipynb\" target=\"_parent\"><img src=\"https://colab.research.google.com/assets/colab-badge.svg\" alt=\"Open In Colab\"/></a>"
      ]
    },
    {
      "cell_type": "code",
      "source": [
        "\"\"\"\n",
        "Seth Forbes\n",
        "Class: CS521 - Spring 2022\n",
        "Date: April 4th, 2022\n",
        "Homework Problem #: 5.5.1\n",
        "Description of Problem: Write a program that takes the input from the user an English sentence.\n",
        "\"\"\"\n",
        "\n",
        "def vc_counter(english_sentence): #creating a function using user input\n",
        "  vc_dict = {'total vowels':0, 'total consonants':0}\n",
        "\n",
        "  for x in english_sentence: #iterating over each character in string\n",
        "    x = x.lower()\n",
        "    if (x == 'a' or x == 'e' or x == 'i' or x == 'o' or x == 'u'): #checking for vowels\n",
        "      vc_dict['total vowels'] += 1\n",
        "    else:\n",
        "      if x.isalpha(): #if it's not a vowel, but still a letter of the alphabet\n",
        "        vc_dict['total consonants'] += 1\n",
        "\n",
        "  return vc_dict\n",
        "\n",
        "if __name__ == \"__main__\": #created main module\n",
        "  english_sentence = input(\"Enter an English sentence: \")\n",
        "  vc_dict = vc_counter(english_sentence)\n",
        "  print(\"Total # of vowels in sentence: \" + str(vc_dict['total vowels']))\n",
        "  print(\"Total # of consonants in sentence: \" + str(vc_dict['total consonants']))"
      ],
      "metadata": {
        "colab": {
          "base_uri": "https://localhost:8080/"
        },
        "id": "lgYBjPemw4sl",
        "outputId": "ad534826-4649-4839-ef92-1bee35813e0d"
      },
      "execution_count": null,
      "outputs": [
        {
          "output_type": "stream",
          "name": "stdout",
          "text": [
            "Enter an English sentence: I love him!\n",
            "Total # of vowels in sentence: 4\n",
            "Total # of consonants in sentence: 4\n"
          ]
        }
      ]
    },
    {
      "cell_type": "code",
      "source": [
        "\"\"\"\n",
        "Seth Forbes\n",
        "Class: CS521 - Spring 2022\n",
        "Date: April 4th, 2022\n",
        "Homework Problem #: 5.5.2\n",
        "Description of Problem: Write a program that takes as input from the user a date and time (24‐hour clock) as \"MM/DD/YYYY HH:mm:SS\".\n",
        "\"\"\"\n",
        "\n",
        "def is_valid_datetime(date): #creating function\n",
        "\n",
        "  base = True #setting default\n",
        "  error = None\n",
        "\n",
        "  if int(date[0][:2]) > 12 or int(date[0][:2]) < 1: #if month is greater than 12 or less than 1\n",
        "    base = False\n",
        "    error = (\"Invalid: There can only be 12 months in a year.\")\n",
        "\n",
        "\n",
        "  elif int(date[0][3:5]) > 31 or int(date[0][3:5]) < 1: #days condition\n",
        "    base = False\n",
        "    error = (\"Invalid: There can only be 31 days in a month.\")\n",
        "\n",
        "\n",
        "  elif int(date[0][6:]) < 1: #year condition\n",
        "    base = False\n",
        "    error = (\"Invalid: The year you entered is incorrect.\")\n",
        "\n",
        "\n",
        "  elif int(date[1][:2]) > 24 or int(date[1][:2]) < 0: #hours condition\n",
        "    base = False\n",
        "    error = (\"Invalid: There cannot be more than 24 hours or less than 0 hours in a day.\")\n",
        "\n",
        "\n",
        "  elif int(date[1][3:5]) > 59 or int(date[1][3:5]) < 0: #minutes condition\n",
        "    base = False\n",
        "    error = (\"Invalid: There cannot be more than 59 minutes or less than 0 minutes in an hour.\")\n",
        "\n",
        "\n",
        "  elif int(date[1][6:]) > 59 or int(date[1][6:]) < 0: #seconds condition\n",
        "    base = False\n",
        "    error = (\"Invalid: There cannot be more than 59 seconds or less than 0 seconds in a minute.\")\n",
        "\n",
        "  return base, error #returning the outcome of these statements\n",
        "\n",
        "if __name__ == '__main__': #main\n",
        "  date_time = input(\"Enter a date time (MM/DD/YYYY HR:MIN:SEC): \")\n",
        "  date = (date_time.split())\n",
        "  base, msg = is_valid_datetime(date)\n",
        "\n",
        "  if base: #setting the formatting for printing\n",
        "      print(\"\\nDD/MM/YYYY is {}/{}/{}\".format(date[0][3:5],date[0][:2],date[0][6:]))\n",
        "      print(\"HR:MIN:SEC is {}:{}:{}\".format(date[1][:2],date[1][3:5],date[1][6:]))\n",
        "      print(\"MM/YYYY is {}/{}\".format(date[0][:2],date[0][6:]))\n",
        "      if int(date[1][:2]) < 12:\n",
        "        print(\"The time is AM\")\n",
        "      else:\n",
        "        print(\"The time is PM\")\n",
        "  else:\n",
        "    print(msg)"
      ],
      "metadata": {
        "colab": {
          "base_uri": "https://localhost:8080/"
        },
        "id": "EVxNu5IpgWfS",
        "outputId": "b8b381e7-6400-4003-d63b-07f70b7bb380"
      },
      "execution_count": null,
      "outputs": [
        {
          "output_type": "stream",
          "name": "stdout",
          "text": [
            "Enter a date time (MM/DD/YYYY HR:MIN:SEC): 04/01/2022 04:23:10\n",
            "\n",
            "DD/MM/YYYY is 01/04/2022\n",
            "HR:MIN:SEC is 04:23:10\n",
            "MM/YYYY is 04/2022\n",
            "The time is AM\n"
          ]
        }
      ]
    },
    {
      "cell_type": "code",
      "source": [
        "\"\"\"\n",
        "Seth Forbes\n",
        "Class: CS521 - Spring 2022\n",
        "Date: April 4th, 2022\n",
        "Homework Problem #: 5.6.3\n",
        "Description of Problem: Write a program that prompts the user for three numbers in one request.\n",
        "\"\"\"\n",
        "\n",
        "while True: #While loop for user input and math calculation\n",
        "\n",
        "  try:\n",
        "    first, sec, third = input(\"Please enter three numbers, separated by commas.\").split(',')\n",
        "\n",
        "    try:\n",
        "      new_math = float(first)/float(sec) #division\n",
        "      result = float(new_math) + float(third) #adding third number\n",
        "      break\n",
        "\n",
        "    except ZeroDivisionError as error: #error handling\n",
        "      print(\"The second number you entered cannot be zero. Please try again.\")\n",
        "\n",
        "  except ValueError: #error handling\n",
        "    print(\"Invalid: Please enter three numbers separated by commas.\")\n",
        "\n",
        "print(\"Result \" + \"(a/b + c)\" + \" = \" + str(result)) #printing results"
      ],
      "metadata": {
        "colab": {
          "base_uri": "https://localhost:8080/"
        },
        "id": "tWuxment9zmG",
        "outputId": "60ab763b-1cbf-4722-d1dc-71aa842cebc9"
      },
      "execution_count": null,
      "outputs": [
        {
          "output_type": "stream",
          "name": "stdout",
          "text": [
            "Please enter three numbers, separated by commas.6,4,3\n",
            "Result (x/y + z) = 4.5\n"
          ]
        }
      ]
    },
    {
      "cell_type": "code",
      "source": [
        "\"\"\"\n",
        "Seth Forbes\n",
        "Class: CS521 - Spring 2022\n",
        "Date: April 4th, 2022\n",
        "Homework Problem #: 5.8.4\n",
        "Description of Problem: Write a program that prompts for a file name of text words and converts to a list.\n",
        "\"\"\"\n",
        "\n",
        "def list_to_once_words(list): #function that takes list as an argument\n",
        "     only_once = [] #empty list\n",
        "     for x in range(0,len(list)):\n",
        "         base = 0\n",
        "         for word in range(0,len(list)):\n",
        "             #checking the file using all lower case lettering\n",
        "             if(list[x].lower()==list[word].lower() and x != word):\n",
        "                 base = 1\n",
        "                 break\n",
        "         if(base == 0):\n",
        "             #adding element to the list\n",
        "            only_once.append(list[x])\n",
        "\n",
        "     return only_once #returning the list\n",
        "\n",
        "\n",
        "#asking the user to input their file name\n",
        "text_file = input(\"Please enter the file name with text you'd like to open:\")\n",
        "list = [] #creating an empty list\n",
        "\n",
        "with open(text_file,'r') as file: #opening and reading the text file\n",
        "    for line in file:\n",
        "        for word in line.split(): #creating list from file\n",
        "            # appending the words\n",
        "            list.append(word)\n",
        "\n",
        "print(\"Original list from text uploaded:\",list) #printing the original list of words\n",
        "final_list = list_to_once_words(list)\n",
        "print(\"The list with words that occurred only once in the file:\", final_list)\n",
        "\n",
        "file.close() #closing the file"
      ],
      "metadata": {
        "colab": {
          "base_uri": "https://localhost:8080/"
        },
        "id": "IQbO9OE0YMPr",
        "outputId": "f7f0fb9f-e326-47e3-bb64-a6ec1b3fc06d"
      },
      "execution_count": null,
      "outputs": [
        {
          "output_type": "stream",
          "name": "stdout",
          "text": [
            "Please enter the file name with text you'd like to open:/content/Test.txt\n",
            "Original list from text uploaded: ['\\ufeffI', 'am', 'testing', 'I', 'am', 'a', 'test', 'Testing', '1,', '2,', '3']\n",
            "The list with words that occurred only once in the file: ['\\ufeffI', 'I', 'a', 'test', '1,', '2,', '3']\n"
          ]
        }
      ]
    },
    {
      "cell_type": "code",
      "source": [
        "\"\"\"\n",
        "Seth Forbes\n",
        "Class: CS521 - Spring 2022\n",
        "Date: April 4th, 2022\n",
        "Homework Problem #: 5.15.5\n",
        "Description of Problem: Write a program that prompt the user on three lines for\\\n",
        "principal, percent interest rate and number of years to invest.\n",
        "\"\"\"\n",
        "\n",
        "while True: #setting while loop and asking for user inputs\n",
        "  principle = int(input(\"Please enter the principal amount (number must be greater than 0). \"))\n",
        "  interest = float(input(\"Thank you. Now please enter the interest rate as a decimal (e.g., .1 instead of 10%). \"))\n",
        "  years = int(input(\"What are the number of years you're investing? (Please enter a number between 1 and 99) \"))\n",
        "\n",
        "  #checking if principle, interest and years fit into parameters\n",
        "  if int(principle) > 0 and interest > 1 or interest < 0 and int(years) > 0 or int(years) < 100:\n",
        "    print(\"These are valid entries. Now calculating the Maturity Value.\")\n",
        "    break\n",
        "\n",
        "  else:\n",
        "    print(\"One of the inputs you entered is incorrect. Please try again.\")\n",
        "\n",
        "def calc_compound_interest(principle, interest, years): #calculating compounded interest\n",
        "  future_compounded = principle * ((1+interest)**years)\n",
        "  return future_compounded\n",
        "\n",
        "\n",
        "def calc_compound_interest_recursive(principle, interest, years): #calculating with recursive method\n",
        "  if int(years) > 0 :\n",
        "    recursive = 0 + calc_compound_interest_recursive((principle*(1+interest)),interest,years-1)\n",
        "\n",
        "  else :\n",
        "    return principle\n",
        "  return recursive\n",
        "\n",
        "print(\"\") #printing space between paragraphs\n",
        "\n",
        "compound_value = calc_compound_interest(principle,interest,years)\n",
        "recursive_value = calc_compound_interest_recursive(principle,interest,years) #printing with two decimal spaces\n",
        "\n",
        "print(\"Maturity Value calculated with the compound interest version = \", f\"{compound_value:,.2f}\") #using f strings\n",
        "print(\"Maturity value calculated with the recursive version = \",f\"{recursive_value:,.2f}\")\n",
        "\n",
        "\n",
        "#rounding out updated values\n",
        "future_compound = round(compound_value,4)\n",
        "future_recursive = round(recursive_value,4)\n",
        "\n",
        "print(\"\")\n",
        "\n",
        "print(\"Maturity value calculated using compound interest version (with 4 decimals) = \", f\"{future_compound:,.4f}\") #printing with four decimal places\n",
        "print(\"Maturity value calculated using recursive method (with 4 decimals) = \",f\"{future_recursive:,.4f}\")\n",
        "\n",
        "\n",
        "#checking if both methods provide the same output\n",
        "if future_compound == future_recursive :\n",
        "  print (\"The values from each of these methods are the same.\")\n",
        "\n",
        "else :\n",
        "  print (\"The values from each of these methods are different.\")"
      ],
      "metadata": {
        "colab": {
          "base_uri": "https://localhost:8080/"
        },
        "id": "mJI-u8Fg_reT",
        "outputId": "856d8b4f-32cf-4a79-8502-4c5c0bbd1ad8"
      },
      "execution_count": null,
      "outputs": [
        {
          "output_type": "stream",
          "name": "stdout",
          "text": [
            "Please enter the principal amount (number must be greater than 0). 1\n",
            "Thank you. Now please enter the interest rate as a decimal (e.g., .1 instead of 10%). .21\n",
            "What are the number of years you're investing? (Please enter a number between 1 and 99) 5\n",
            "These are valid entries. Now computing Maturity Value.\n",
            "\n",
            "Maturity Value calculated with the compound interest version =  2.59\n",
            "Maturity value calculated with the recursive version =  2.59\n",
            "\n",
            "Maturity Value calculated using Compound Interest Method(4 decimal) =  2.5937\n",
            "Maturity Value calculated using Recurssive Method(4 decimal) =  2.5937\n",
            "The values from each of these methods are the same.\n"
          ]
        }
      ]
    }
  ]
}