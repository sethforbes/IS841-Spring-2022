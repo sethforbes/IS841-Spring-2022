{
  "nbformat": 4,
  "nbformat_minor": 0,
  "metadata": {
    "colab": {
      "provenance": [],
      "collapsed_sections": [
        "zlz_AVSw4pA-",
        "UJx4v8S85PE9",
        "qQEQ83MNDHIu",
        "YijYhok2KpfL",
        "A9jm6w1D0S4D",
        "Qtjz_lTD0OzH",
        "9yuzcjMv0kbF",
        "YU-MI1j_0pbp",
        "SHTCzI5T030y",
        "4HPTe28PMieo",
        "i4ftRX-O4F_q",
        "Vct07wFt4J8m",
        "-CQSFAYd4N3m",
        "3-DuGnd63YNs"
      ],
      "include_colab_link": true
    },
    "kernelspec": {
      "name": "python3",
      "display_name": "Python 3"
    }
  },
  "cells": [
    {
      "cell_type": "markdown",
      "metadata": {
        "id": "view-in-github",
        "colab_type": "text"
      },
      "source": [
        "<a href=\"https://colab.research.google.com/github/sethforbes/IS841-Spring-2022/blob/main/Forbes%2C_Seth_Part_1.ipynb\" target=\"_parent\"><img src=\"https://colab.research.google.com/assets/colab-badge.svg\" alt=\"Open In Colab\"/></a>"
      ]
    },
    {
      "cell_type": "markdown",
      "metadata": {
        "id": "zlz_AVSw4pA-"
      },
      "source": [
        "# Python Basics"
      ]
    },
    {
      "cell_type": "markdown",
      "metadata": {
        "id": "7vYvRcn847XU"
      },
      "source": [
        "\n",
        "<img src=\"https://drive.google.com/uc?id=1Bd0ReM6u-oYylDM1a1dWr63TrgIx9ts1\">\n",
        "\n",
        "Q: What is Python?\n",
        "\n",
        "A: A programming language. Ok, end of lecture\n",
        "\n",
        "Q: How do I Python?\n",
        "\n",
        "A: There are a few different ways you can run Python code:\n",
        "\n",
        "\n",
        "1.   Open an interactive python shell at your command line and type in statements line by line.\n",
        "\n",
        "2.   Use an Integrated Development Environment (IDE) such as PyCharm or Eclipse (w/ PyDev plugin).  This allows you to edit the text of your code and even highlight and run statements line by line.\n",
        "![pycharm IDE](https://drive.google.com/uc?id=1md5HB7MIUZKjZzqhWQ5-Qh7b_TnUqBbb)\n",
        "3.  Edit your python code in a text file (python code files should always have the extension .py) in a (hopefully very good) text editor and then execute that file from the command line.\n",
        "![text editor](https://drive.google.com/uc?id=1bhGTz1RXtIIDRify6KD_5hBYHB2u1964)\n",
        "\n",
        "4.   Use a Jupyter Notebook. This allows you to interleave \"cells\" of regular text and images (in markdown format) with \"cells\" of python code. To do this, you have to have Jupyter installed on a machine. The actual notebook interface is \"served up\" by that local machine as a web service that you can access through a web browser. If you click the play button next to a \"cell\" of code, it will instruct the server machine to execute that line of code in a shell that is awaiting input and then send the output back to the browser.  Google provides a Jupyter notebook environment that is connected to Google's cloud computing service that you can use for free (with some limitations) through colab.research.google.com. This is what you are using to look at this lecture now.\n",
        "\n"
      ]
    },
    {
      "cell_type": "markdown",
      "metadata": {
        "id": "UJx4v8S85PE9"
      },
      "source": [
        "# Python Language"
      ]
    },
    {
      "cell_type": "markdown",
      "metadata": {
        "id": "JqlNxvC45K3A"
      },
      "source": [
        "Python is a little different from most of the programming language that you may\n",
        "have some experience with.\n",
        "\n",
        "Here are some things about Python:\n",
        "\n",
        "\n",
        "* In Python, whitespace matters. The indent level (tab) is used to indicate entering a new block of code, such as in a loop or if statement. There are no semicolons to end lines.\n",
        "![](https://drive.google.com/uc?id=1UhbV34Q40SPESQgMHW6uByPj_JKPGDTK)\n",
        "\n",
        "* Everything in python is an object (as in the class or object-oriented sense -- we'll talk more about what this means later).\n",
        "\n",
        "* We use the equal sign to assign a value or object to a variable. We don't have to declare a variable or its type before we do this (as in more formal languages such as C).\n",
        "\n",
        "* Python is also loosely typed. This means that the type of a variable is never specified (and in fact can change throughout the course of a program).\n",
        "\n",
        "* Python is typically **interpreted** rather than compiled (though there are implementations that compile). This means that programs are typically executed line by line.\n",
        "\n",
        "* You can use a hash symbol (#) to add comments in code. Python will treat everything on the same line after the hash symbol as a comment.\n",
        "\n",
        "\n",
        "\n",
        "\n"
      ]
    },
    {
      "cell_type": "markdown",
      "metadata": {
        "id": "3d61Ev598Ky-"
      },
      "source": [
        "Let's start with some basics.\n",
        "\n",
        "Note:  The code cells below are intended to be executed in order. If you execute them out of order, some cells may rely upon variables that were only defined in prior cells. They will throw an error.  You should experiment with each cell to ensure that you understand what's happening and see how things change when you update and rerun the code in the cell.  \n",
        "\n",
        "**Make sure you run every code block in this file.**"
      ]
    },
    {
      "cell_type": "code",
      "metadata": {
        "id": "chvEge084zKp",
        "colab": {
          "base_uri": "https://localhost:8080/"
        },
        "outputId": "c386b532-034f-42db-8a95-953addceaeae"
      },
      "source": [
        "# This is a comment line\n",
        "print(\"Hello world.\") # try running this statement by clicking the play button next to this cell of code.\n",
        "\n",
        "# You can also edit this code and re-run it. Try this now. Make this block print your name instead of hello world and run it."
      ],
      "execution_count": null,
      "outputs": [
        {
          "output_type": "stream",
          "name": "stdout",
          "text": [
            "Hello world.\n"
          ]
        }
      ]
    },
    {
      "cell_type": "markdown",
      "metadata": {
        "id": "lBsQYbUd8S5Q"
      },
      "source": [
        "Each line of Python code (often referred to as a **statement**) tells the interpreter what to do.\n",
        "This could be:"
      ]
    },
    {
      "cell_type": "code",
      "metadata": {
        "id": "t0CZRA659prF",
        "colab": {
          "base_uri": "https://localhost:8080/"
        },
        "outputId": "516a70a1-0264-49d9-ae99-d7db74749bfa"
      },
      "source": [
        "# Output something\n",
        "print(\"Hello world.\")"
      ],
      "execution_count": null,
      "outputs": [
        {
          "output_type": "stream",
          "name": "stdout",
          "text": [
            "Hello world.\n"
          ]
        }
      ]
    },
    {
      "cell_type": "code",
      "metadata": {
        "id": "prsQdmya-g9Q",
        "colab": {
          "base_uri": "https://localhost:8080/"
        },
        "outputId": "6e1e25cc-e034-4d17-b64c-baf4df4644b1"
      },
      "source": [
        "# Define a new variable and assign it a value or object:\n",
        "x=2\n",
        "print(x)"
      ],
      "execution_count": null,
      "outputs": [
        {
          "output_type": "stream",
          "name": "stdout",
          "text": [
            "2\n"
          ]
        }
      ]
    },
    {
      "cell_type": "code",
      "metadata": {
        "id": "Fn5cBe5f-gsV",
        "colab": {
          "base_uri": "https://localhost:8080/"
        },
        "outputId": "59e9bcc1-b97f-41a1-8289-6c94c72a3be5"
      },
      "source": [
        "# Set the value (right hand side) of an existing variable or object (left hand side) to something:\n",
        "y=1\n",
        "x=y+2\n",
        "print(x)"
      ],
      "execution_count": null,
      "outputs": [
        {
          "output_type": "stream",
          "name": "stdout",
          "text": [
            "3\n"
          ]
        }
      ]
    },
    {
      "cell_type": "code",
      "metadata": {
        "id": "rWekr359-gYX"
      },
      "source": [
        "# Enter or pass over a sub-block of code based on a condition:\n",
        "if x>5:\n",
        "  print(\"x is greater than 5\") # this line will only be executed if the condition (x>2) evaluates to True. Also notice the indent level.\n",
        "\n",
        "# Try changing the condition so that it will evaluate to False and re-run it."
      ],
      "execution_count": null,
      "outputs": []
    },
    {
      "cell_type": "markdown",
      "metadata": {
        "id": "1AMX-sR9-5nj"
      },
      "source": [
        "Every object in Python has a **type** that determines what kind of things the object can \"do\".  There are a whole bunch of types, but they come in two varieties:\n",
        "1.  Scalar Types - these are the atoms of Python in the sense that they have no internal structure (sorry high energy physics!).  There are only four scalar types:\n",
        " - int\n",
        " - float\n",
        " - bool\n",
        " - None  \n",
        "2.  Non-scalar Types  - these typically have some substructure and are more \"sophisticated\".\n",
        " - Most things are non-scalar types and there are many of these. You can even create your own types (more on this when we talk about Classes and Objects)\n",
        "\n",
        "You can check the type of an object with the type() function:\n"
      ]
    },
    {
      "cell_type": "code",
      "metadata": {
        "id": "xtsUK_-PBIN3",
        "colab": {
          "base_uri": "https://localhost:8080/"
        },
        "outputId": "ae100a53-d47d-4bdc-92d8-e25265ac1fd5"
      },
      "source": [
        "type(x)\n",
        "\n",
        "# Now try defining some other variable and checking the type here."
      ],
      "execution_count": null,
      "outputs": [
        {
          "output_type": "execute_result",
          "data": {
            "text/plain": [
              "int"
            ]
          },
          "metadata": {},
          "execution_count": 6
        }
      ]
    },
    {
      "cell_type": "markdown",
      "metadata": {
        "id": "Yle1Fx2DA-Gj"
      },
      "source": [
        "Python also has **operators** which are things that operate on objects\n",
        " - e.g., + , - , * , / , % , ** , == , != , > , < , <= , <= , etc.\n",
        " - You can even create your own operators, but we won't need to do this.\n",
        "\n",
        "We can combine **objects** and **operators** to form **expressions**"
      ]
    },
    {
      "cell_type": "code",
      "metadata": {
        "id": "dFNuOR67Ap5j",
        "colab": {
          "base_uri": "https://localhost:8080/"
        },
        "outputId": "dfd44173-16f9-4b76-fad4-ef70b802d559"
      },
      "source": [
        "x=\"hello\"\n",
        "y=\" world.\"\n",
        "x+y # this is an expression that will evaluate to an object, in this case a string with value \"Hello world.\""
      ],
      "execution_count": null,
      "outputs": [
        {
          "output_type": "execute_result",
          "data": {
            "text/plain": [
              "'hello world.'"
            ],
            "application/vnd.google.colaboratory.intrinsic+json": {
              "type": "string"
            }
          },
          "metadata": {},
          "execution_count": 7
        }
      ]
    },
    {
      "cell_type": "markdown",
      "metadata": {
        "id": "ti9XRd5HBYps"
      },
      "source": [
        "Statements are built out of expressions. Variables are a convenient way to assign a name to an object.\n",
        "\n",
        "An assignment statement associates a name (on the left hand side) with the object on the right hand side.\n",
        "\n",
        "A variable is just a name that is \"bound\" to an object\n",
        "![](https://drive.google.com/uc?id=1XMLHYigPWGTiRQd98bVZfhu2te5m5bXQ)"
      ]
    },
    {
      "cell_type": "markdown",
      "metadata": {
        "id": "H9ZS1HCSCzNm"
      },
      "source": [
        "Now let's try playing around."
      ]
    },
    {
      "cell_type": "markdown",
      "metadata": {
        "id": "qQEQ83MNDHIu"
      },
      "source": [
        "# Working with simple variables and expressions"
      ]
    },
    {
      "cell_type": "code",
      "metadata": {
        "id": "sn3NxHvUDAi6",
        "colab": {
          "base_uri": "https://localhost:8080/"
        },
        "outputId": "810059e0-84bc-4f84-ff1f-6b06f5d093b1"
      },
      "source": [
        "# Simple Variables:\n",
        "#   Python is 'dynamically typed', which is a fancy way of saying that the\n",
        "#   type of an object is not officially declared when you set the object to a value:\n",
        "someVariable = None # a special 'None' type -- we'll talk more about it later.\n",
        "someVariable = 9 # an integer type\n",
        "someVariable = 9.0 # a float type\n",
        "someVariable = True # a boolean type\n",
        "someVariable = \"This is a string\"  # a string type\n",
        "\n",
        "# You can check the type of an object like this:\n",
        "type(someVariable)\n",
        "\n",
        "#   You can read more about types in Python here:\n",
        "# https://pythonconquerstheuniverse.wordpress.com/2009/10/03/static-vs-dynamic-typing-of-programming-languages/"
      ],
      "execution_count": null,
      "outputs": [
        {
          "output_type": "execute_result",
          "data": {
            "text/plain": [
              "str"
            ]
          },
          "metadata": {},
          "execution_count": 8
        }
      ]
    },
    {
      "cell_type": "code",
      "metadata": {
        "id": "E2UEgJkzDSyl",
        "colab": {
          "base_uri": "https://localhost:8080/"
        },
        "outputId": "512a4e1d-328b-4e77-c322-35058bd8b1c3"
      },
      "source": [
        "# Some simple manipulations\n",
        "x=9\n",
        "y=1\n",
        "z=x+y\n",
        "print(z)"
      ],
      "execution_count": null,
      "outputs": [
        {
          "output_type": "stream",
          "name": "stdout",
          "text": [
            "10\n"
          ]
        }
      ]
    },
    {
      "cell_type": "code",
      "metadata": {
        "id": "Oku6tMFBDfmF",
        "colab": {
          "base_uri": "https://localhost:8080/"
        },
        "outputId": "c60fed6e-995d-4bb3-a12c-64007327bf2b"
      },
      "source": [
        "x='Hello'\n",
        "y=' World'\n",
        "z=x+y\n",
        "print(z)"
      ],
      "execution_count": null,
      "outputs": [
        {
          "output_type": "stream",
          "name": "stdout",
          "text": [
            "Hello World\n"
          ]
        }
      ]
    },
    {
      "cell_type": "code",
      "metadata": {
        "id": "G9ETfUGPDfVG",
        "colab": {
          "base_uri": "https://localhost:8080/",
          "height": 201
        },
        "outputId": "972fb607-acae-4ebb-b619-7eb7e5753265"
      },
      "source": [
        "x=\"Hello\"\n",
        "y=9\n",
        "z=x+y # This will throw a TypeError, because the '+' operator doesn't know how to add a string to an integer"
      ],
      "execution_count": null,
      "outputs": [
        {
          "output_type": "error",
          "ename": "TypeError",
          "evalue": "ignored",
          "traceback": [
            "\u001b[0;31m---------------------------------------------------------------------------\u001b[0m",
            "\u001b[0;31mTypeError\u001b[0m                                 Traceback (most recent call last)",
            "\u001b[0;32m<ipython-input-11-289eb9adfaf7>\u001b[0m in \u001b[0;36m<module>\u001b[0;34m()\u001b[0m\n\u001b[1;32m      1\u001b[0m \u001b[0mx\u001b[0m\u001b[0;34m=\u001b[0m\u001b[0;34m\"Hello\"\u001b[0m\u001b[0;34m\u001b[0m\u001b[0;34m\u001b[0m\u001b[0m\n\u001b[1;32m      2\u001b[0m \u001b[0my\u001b[0m\u001b[0;34m=\u001b[0m\u001b[0;36m9\u001b[0m\u001b[0;34m\u001b[0m\u001b[0;34m\u001b[0m\u001b[0m\n\u001b[0;32m----> 3\u001b[0;31m \u001b[0mz\u001b[0m\u001b[0;34m=\u001b[0m\u001b[0mx\u001b[0m\u001b[0;34m+\u001b[0m\u001b[0my\u001b[0m \u001b[0;31m# This will throw a TypeError, because the '+' operator doesn't know how to add a string to an integer\u001b[0m\u001b[0;34m\u001b[0m\u001b[0;34m\u001b[0m\u001b[0m\n\u001b[0m",
            "\u001b[0;31mTypeError\u001b[0m: can only concatenate str (not \"int\") to str"
          ]
        }
      ]
    },
    {
      "cell_type": "code",
      "metadata": {
        "id": "FWwSnoeOTHL3"
      },
      "source": [
        "z=x+str(y) # This will work because we told Python to convert y to a string type first\n",
        "print(z)"
      ],
      "execution_count": null,
      "outputs": []
    },
    {
      "cell_type": "code",
      "metadata": {
        "id": "tMB8dHmxDfDj"
      },
      "source": [
        "x=9\n",
        "y=2\n",
        "z=x*y\n",
        "print(z)"
      ],
      "execution_count": null,
      "outputs": []
    },
    {
      "cell_type": "code",
      "metadata": {
        "id": "rXrt89DrDprq"
      },
      "source": [
        "x=9\n",
        "y=2\n",
        "z=x**y # x**y means \"x raised to the power of y\" (in other languages it is often expressed as x^y)\n",
        "print(z)"
      ],
      "execution_count": null,
      "outputs": []
    },
    {
      "cell_type": "markdown",
      "metadata": {
        "id": "YijYhok2KpfL"
      },
      "source": [
        "# Boolean Logic in Python"
      ]
    },
    {
      "cell_type": "markdown",
      "metadata": {
        "id": "fE3OZThvxH6L"
      },
      "source": [
        "\n",
        "\n",
        "Python also supports boolean types and expressions:"
      ]
    },
    {
      "cell_type": "code",
      "metadata": {
        "id": "1dKApkXxx0fT"
      },
      "source": [
        "someBool=True\n",
        "print(someBool)\n",
        "print(not(someBool))"
      ],
      "execution_count": null,
      "outputs": []
    },
    {
      "cell_type": "code",
      "metadata": {
        "id": "T3phVNoByPR0"
      },
      "source": [
        "someOtherBool=False\n",
        "print(someBool and someOtherBool)\n",
        "print(someBool or someOtherBool)"
      ],
      "execution_count": null,
      "outputs": []
    },
    {
      "cell_type": "markdown",
      "metadata": {
        "id": "_41gu9SA2Oth"
      },
      "source": [
        "And of course, we can use the typical comparison operators, which return booleans:"
      ]
    },
    {
      "cell_type": "code",
      "metadata": {
        "id": "akJWhVtE2Vxf"
      },
      "source": [
        "x=10\n",
        "y=5\n",
        "z=3\n",
        "x>y\n",
        "(x>y) and (y<z)"
      ],
      "execution_count": null,
      "outputs": []
    },
    {
      "cell_type": "markdown",
      "metadata": {
        "id": "dc9ovPhZ2ozB"
      },
      "source": [
        "IMPORTANT: One common point of confusion is the difference between the keywords ``and`` and ``or`` on one hand, and the operators ``&`` and ``|`` on the other hand.\n",
        "When would you use one versus the other?\n",
        "\n",
        "The difference is this: ``and`` and ``or`` gauge the truth or falsehood of an *entire object*, while ``&`` and ``|`` refer to *bits within each object*.\n",
        "\n",
        "When you use ``and`` or ``or``, it's equivalent to asking Python to treat the object as a single Boolean entity.\n",
        "\n",
        "When you use ``&`` or ``|``, its equivalent to operating on the actual bits of an object.\n",
        "\n",
        "We can show whats happening when we use bitwise logic by using ``bin()`` which returns the binary representation of an integer:"
      ]
    },
    {
      "cell_type": "code",
      "metadata": {
        "id": "oHA1I_g93D5M"
      },
      "source": [
        "print(bin(10))\n",
        "print(bin(12))\n",
        "print(bin(10&12))\n",
        "print(bin(10|12))"
      ],
      "execution_count": null,
      "outputs": []
    },
    {
      "cell_type": "markdown",
      "metadata": {
        "id": "UAZWZ0XY4EHo"
      },
      "source": [
        "When working with logical expression in python, it is usually the case that we will want to use ``and``, ``or``, ``not`` instead of bitwise operations.\n",
        "\n",
        "The only exception to this is when we are working with numpy arrays (which we'll talk about in a few lectures from now), where ``&`` and ``|`` are used by numpy to operate on logical expressions across an array (i.e., \"inside\" of an object)."
      ]
    },
    {
      "cell_type": "markdown",
      "metadata": {
        "id": "A9jm6w1D0S4D"
      },
      "source": [
        "# Collections"
      ]
    },
    {
      "cell_type": "markdown",
      "metadata": {
        "id": "4Kce9dMJECyW"
      },
      "source": [
        "Python has some very useful objects that are different ways of collecting other objects. These include:\n",
        "* lists\n",
        "* tuples\n",
        "* dictionaries\n",
        "* some others\n",
        "\n",
        "Let's have a look at some of these now:"
      ]
    },
    {
      "cell_type": "markdown",
      "metadata": {
        "id": "Qtjz_lTD0OzH"
      },
      "source": [
        "## Lists"
      ]
    },
    {
      "cell_type": "markdown",
      "metadata": {
        "id": "l6-sqZKYDomU"
      },
      "source": [
        "Lists store a list of objects. You can add or remove objects from this list after you've created it. You can access a particular object with its index (an integer that reflects the order that it appears in the list)"
      ]
    },
    {
      "cell_type": "code",
      "metadata": {
        "id": "7xClOWqeEdb4"
      },
      "source": [
        "# Lists:\n",
        "someList=list()  # make a new list\n",
        "print(someList)\n",
        "\n"
      ],
      "execution_count": null,
      "outputs": []
    },
    {
      "cell_type": "code",
      "metadata": {
        "id": "Ki8hGAfiQMPy"
      },
      "source": [
        "someList.append(\"first\") # append the string \"First\" to the end of the list\n",
        "print(someList)"
      ],
      "execution_count": null,
      "outputs": []
    },
    {
      "cell_type": "code",
      "metadata": {
        "id": "4qty-HOfQOmt"
      },
      "source": [
        "someList.append(\"Second\") # append the string \"Second\" to the end of the list\n",
        "print(someList)"
      ],
      "execution_count": null,
      "outputs": []
    },
    {
      "cell_type": "code",
      "metadata": {
        "id": "t4dM4AXEQRSA"
      },
      "source": [
        "someList.append(3) # append the integer 3 to the end of the list\n",
        "print(someList)"
      ],
      "execution_count": null,
      "outputs": []
    },
    {
      "cell_type": "code",
      "metadata": {
        "id": "8DQY71JD8ZXJ"
      },
      "source": [
        "# We could have done the above four lines in a single statement:\n",
        "someList=[\"first\",\"Second\",3]\n",
        "print(someList) # print out the whole list"
      ],
      "execution_count": null,
      "outputs": []
    },
    {
      "cell_type": "code",
      "metadata": {
        "id": "IHWYP24nQXE1"
      },
      "source": [
        "print(someList[0]) # get the first object in the list. Notice the index is 0, not 1\n"
      ],
      "execution_count": null,
      "outputs": []
    },
    {
      "cell_type": "code",
      "metadata": {
        "id": "_NkzEezEQZfs"
      },
      "source": [
        "print(someList[1]) # get the second object in the list."
      ],
      "execution_count": null,
      "outputs": []
    },
    {
      "cell_type": "code",
      "metadata": {
        "id": "ZyJXeBqMQanI"
      },
      "source": [
        "print(someList[2]) # get the third object in the list.\n",
        "\n",
        "# notice that the type of objects in a list don't all have to match.\n",
        "\n",
        "# try playing around by changing the above block (the one that starts with \"# Lists# up until here)."
      ],
      "execution_count": null,
      "outputs": []
    },
    {
      "cell_type": "code",
      "metadata": {
        "id": "kX105XxySNhd"
      },
      "source": [
        "someList[3] # this will throw an IndexError, because we haven't added a 4th object to the list yet"
      ],
      "execution_count": null,
      "outputs": []
    },
    {
      "cell_type": "markdown",
      "metadata": {
        "id": "iSWuNJBPFEY-"
      },
      "source": [
        "What if you want only some of the items in the list (a \"slice\" of the list)?\n",
        "Then you can use the \":\", which is the slice operator.\n",
        "You can specify the start and end integer index of the slice using the format \"[start:end]\" like this:"
      ]
    },
    {
      "cell_type": "code",
      "metadata": {
        "id": "iQwKzhxMEpYI"
      },
      "source": [
        "someList[0:2]  # get the items corresponding to indices 0,1 (i.e., start at index 0, stop before index 2)"
      ],
      "execution_count": null,
      "outputs": []
    },
    {
      "cell_type": "code",
      "metadata": {
        "id": "1cfHcEQOSkd6"
      },
      "source": [
        "someList[:3] # get all the items up to but not including index 3"
      ],
      "execution_count": null,
      "outputs": []
    },
    {
      "cell_type": "code",
      "metadata": {
        "id": "u9TyvPIzSnCS"
      },
      "source": [
        "someList[1:] # get all the items starting at the index 1 until the end of the list"
      ],
      "execution_count": null,
      "outputs": []
    },
    {
      "cell_type": "markdown",
      "metadata": {
        "id": "sY8ennxHFOEs"
      },
      "source": [
        "The \"in\" keyword allows you to determine if an object is in a list:"
      ]
    },
    {
      "cell_type": "code",
      "metadata": {
        "id": "nZeoUMphEvyK"
      },
      "source": [
        "\"Second\" in someList # this will return True because the object \"Second\" is in someList"
      ],
      "execution_count": null,
      "outputs": []
    },
    {
      "cell_type": "code",
      "metadata": {
        "id": "vJFpk6idSZb4"
      },
      "source": [
        "\"test\" in someList # this will return False because the object \"test\" is not in someList"
      ],
      "execution_count": null,
      "outputs": []
    },
    {
      "cell_type": "code",
      "metadata": {
        "id": "SKJozL9_SeGc"
      },
      "source": [
        "# Define a new list with some elements in it and test out using \"in\"\n",
        "\n"
      ],
      "execution_count": null,
      "outputs": []
    },
    {
      "cell_type": "markdown",
      "metadata": {
        "id": "AreNXpzCFVBG"
      },
      "source": [
        "List are \"mutable\", which means you can change them after you have created them.\n",
        "Lists grow and shrink by adding (or removing) objects to the end.  \n",
        "\n",
        "You use `.append()` to add to the end, `.insert()` to add at a particular position, and `.pop()` to get and remove the object at the end (or at any position if you add the index as an argument):"
      ]
    },
    {
      "cell_type": "code",
      "metadata": {
        "id": "JmjjFAHpEySx"
      },
      "source": [
        "someList.append('Third') # this will add the string \"Third\" to the end of the list\n",
        "print(someList)"
      ],
      "execution_count": null,
      "outputs": []
    },
    {
      "cell_type": "code",
      "metadata": {
        "id": "vBU9vPBWSzQB"
      },
      "source": [
        "foo = someList.pop() # get the last object and remove it from the list\n",
        "print(someList) # notice that the 3 isn't in the list anymore"
      ],
      "execution_count": null,
      "outputs": []
    },
    {
      "cell_type": "code",
      "metadata": {
        "id": "ywwxXlpZS3Jj"
      },
      "source": [
        "# you can also pop things from any indexed point in the list by adding an argument to the pop() call:\n",
        "someList.pop(0) # get the 0th indexed item in the list and remove it from the list\n",
        "print(someList) # notice that now 'Second' is the only item in the list and no longer the actually second (index of 1)"
      ],
      "execution_count": null,
      "outputs": []
    },
    {
      "cell_type": "markdown",
      "metadata": {
        "id": "9pUWNwJmXmKt"
      },
      "source": [
        "If you want to remove an item from a list by its value instead of by its index, you can use the `.remove()` method. Because a list can hold duplicate values, this will only remove the first instance that it finds of that value."
      ]
    },
    {
      "cell_type": "code",
      "metadata": {
        "id": "Emlep90Km83W"
      },
      "source": [
        "someList.insert(1,'Second')\n",
        "print(someList)"
      ],
      "execution_count": null,
      "outputs": []
    },
    {
      "cell_type": "code",
      "metadata": {
        "id": "jEg5BL3ZYGRk"
      },
      "source": [
        "someList.remove('Second')\n",
        "print(someList)"
      ],
      "execution_count": null,
      "outputs": []
    },
    {
      "cell_type": "code",
      "metadata": {
        "id": "ua5cmvmAYJZy"
      },
      "source": [
        "someList.insert(1,\"inserted as the 2nd element\") # you an insert an element at a particular index position like this."
      ],
      "execution_count": null,
      "outputs": []
    },
    {
      "cell_type": "code",
      "metadata": {
        "id": "mWYkaB7KSsxI"
      },
      "source": [
        "# Define your own list and add some elements to it. Then remove some by index and by value."
      ],
      "execution_count": null,
      "outputs": []
    },
    {
      "cell_type": "markdown",
      "metadata": {
        "id": "0sKZk43mFtkX"
      },
      "source": [
        "The function `len()` returns the length of a list:"
      ]
    },
    {
      "cell_type": "code",
      "metadata": {
        "id": "IAqq_kFlFBW-"
      },
      "source": [
        "someListLength = len(someList)\n",
        "print(someListLength)\n",
        "type(someListLength) # notice that the type of someListLength is an integer, because the len() function returns an integer"
      ],
      "execution_count": null,
      "outputs": []
    },
    {
      "cell_type": "markdown",
      "metadata": {
        "id": "sruVjeF5Gybk"
      },
      "source": [
        "You can also combine or \"concatenate\" lists together using the \"+\" operator:"
      ]
    },
    {
      "cell_type": "code",
      "metadata": {
        "id": "0Tfp9mQvG5jC"
      },
      "source": [
        "bigList = [\"First\"] + someList\n",
        "# above the square brackets tell Python we are making a new list with only one element \"First\",\n",
        "#  then concatenating it with someList using the \"+\" operator\n",
        "print(bigList)"
      ],
      "execution_count": null,
      "outputs": []
    },
    {
      "cell_type": "markdown",
      "metadata": {
        "id": "q28HeVvGHAjg"
      },
      "source": [
        "There is a nice function range(start,step,stop) that can be used to make a lists of increasing or decreasing integers. The step argument is optional (and will default to 1 if not specified).\n",
        "\n",
        "Range used to actually return a list object, but in recent python versions, range became its own type. But we can still use it to make a list by converting it to a list with the `list()` function:"
      ]
    },
    {
      "cell_type": "code",
      "metadata": {
        "id": "70zHAYiOHScE"
      },
      "source": [
        "countUpList = list(range(0,10)) # generate a list of integers increasing by 1 from 0 and up to (but not including) 10\n",
        "print(countUpList)"
      ],
      "execution_count": null,
      "outputs": []
    },
    {
      "cell_type": "code",
      "metadata": {
        "id": "loUYbOZfH7AD"
      },
      "source": [
        "countUpByTwoList = list(range(0,10,2)) # here each next integer in the list will be 2 more than the last\n",
        "print(countUpByTwoList)"
      ],
      "execution_count": null,
      "outputs": []
    },
    {
      "cell_type": "code",
      "metadata": {
        "id": "jiisrsF7Ihbw"
      },
      "source": [
        "countDownList = list(range(10,0,-1)) # generate a list of integers increasing by 1 from 0 and up to (but not including) 10\n",
        "print(countDownList)"
      ],
      "execution_count": null,
      "outputs": []
    },
    {
      "cell_type": "markdown",
      "metadata": {
        "id": "mbjlCBsEIBnV"
      },
      "source": [
        "In most of the places were we would want to use `range()` **we won't need to convert it to a list** -- for example, in a \"for loop\" to loop a certain number of times and have a variable that tracks which iteration we are in.  We'll see an example of this later when we talk about loops."
      ]
    },
    {
      "cell_type": "markdown",
      "metadata": {
        "id": "9yuzcjMv0kbF"
      },
      "source": [
        "## Tuples"
      ]
    },
    {
      "cell_type": "markdown",
      "metadata": {
        "id": "OZE1e3jJInb6"
      },
      "source": [
        "Tuples are kind of similar to lists, because:\n",
        " - they can hold an arbitrary number of objects of arbitrary types\n",
        " - you can index them the same way you would index lists\n",
        "\n",
        "But, they are also different, because they are **immutable**. This means:\n",
        " - they cannot be changed after being created\n",
        " - you can't grow, shrink or add or remove elements\n",
        " - you can't change the value of one of the elements\n",
        "\n",
        "But that's okay because we already have lists and we can always make a new tuple from an existing one."
      ]
    },
    {
      "cell_type": "code",
      "metadata": {
        "id": "Pe8YgOd6JXrc"
      },
      "source": [
        "someTuple=(1,\"two\",3.0) # make a new tuple name someTuple with the values 1, \"two\", and 3.0\n",
        "print(someTuple)"
      ],
      "execution_count": null,
      "outputs": []
    },
    {
      "cell_type": "code",
      "metadata": {
        "id": "fxMkVShhJcA8"
      },
      "source": [
        "someTuple[0] # get the first (index of 0) item of the tuple"
      ],
      "execution_count": null,
      "outputs": []
    },
    {
      "cell_type": "code",
      "metadata": {
        "id": "tIDX-2SJ8vnN"
      },
      "source": [
        "someTuple[1] # get the second (index of 1) item of the tuple"
      ],
      "execution_count": null,
      "outputs": []
    },
    {
      "cell_type": "code",
      "metadata": {
        "id": "PEvX9aX-8xKr"
      },
      "source": [
        "someTuple[2] # get the second (index of 1) item of the tuple"
      ],
      "execution_count": null,
      "outputs": []
    },
    {
      "cell_type": "code",
      "metadata": {
        "id": "qQHbDKGaJg__"
      },
      "source": [
        "someTuple[3] # this will throw and IndexError, because we defined the tuple to have only 3 elements with indices 0,1,2"
      ],
      "execution_count": null,
      "outputs": []
    },
    {
      "cell_type": "code",
      "metadata": {
        "id": "-o4YOTvcJjVr"
      },
      "source": [
        "someTuple[0] = \"one\" # this will throw a type error saying that the 'tuple' object does not support item assignment"
      ],
      "execution_count": null,
      "outputs": []
    },
    {
      "cell_type": "markdown",
      "metadata": {
        "id": "YU-MI1j_0pbp"
      },
      "source": [
        "## Dictionaries"
      ]
    },
    {
      "cell_type": "markdown",
      "metadata": {
        "id": "7cXeQQYkJrgk"
      },
      "source": [
        "Dictionaries store pairs of objects as keys and values.\n",
        "\n",
        "* keys can be any object that is \"hashable\" -- don't worry about this for now\n",
        "* values can be any object\n",
        "\n",
        "In a dictionary, every key has exactly one value associated with it.\n",
        "\n",
        "You can think of the key as the thing that you use to look up the value that you want."
      ]
    },
    {
      "cell_type": "code",
      "metadata": {
        "id": "lOH1FbQAKKqB"
      },
      "source": [
        "someDict = dict() # make a new dictionary\n",
        "print(someDict)"
      ],
      "execution_count": null,
      "outputs": []
    },
    {
      "cell_type": "code",
      "metadata": {
        "id": "2pqQ9MGjKPxq"
      },
      "source": [
        "someDict[\"Fred\"] = \"an awesome guy\" # Here \"Fred\" is a key of type string; \" an awesome guy\" is the associated value of type string\n",
        "someDict[\"Kate\"] = \"an awesome gal\" # Here \"Kate\" is a key of type string; \" an awesome wife\" is the associated value of type string\n",
        "someDict[\"Echo\"] = \"a cute black lab\"\n",
        "print(someDict)\n",
        "\n",
        "# Here I uses strings as both the keys and the values, but you try experimenting with your own keys and values of different types (integers, floats, bools, etc.)"
      ],
      "execution_count": null,
      "outputs": []
    },
    {
      "cell_type": "markdown",
      "metadata": {
        "id": "PsrtYWziKpJp"
      },
      "source": [
        "You can actually define an entire dictionary with keys and values all in one line:"
      ]
    },
    {
      "cell_type": "code",
      "metadata": {
        "id": "sJtZiThkKZzD"
      },
      "source": [
        "someOtherDict={\"Fred\":\"an awesome guy\",\"Kate\":\"an awesome gal\",\"Echo\":\"a cute black lab\"}  # notice the use of the curly brackets, ':' and ','\n",
        "print(someOtherDict)"
      ],
      "execution_count": null,
      "outputs": []
    },
    {
      "cell_type": "markdown",
      "metadata": {
        "id": "xkE_uj9eK4j6"
      },
      "source": [
        "You can re-assign the value for a given key at any point:"
      ]
    },
    {
      "cell_type": "code",
      "metadata": {
        "id": "5XV-YtqSK-p7"
      },
      "source": [
        "print(someDict)\n",
        "someDict[\"Fred\"] = \"a terrible guy\" # You can re-assign the value associated with an existing key\n",
        "print(someDict)"
      ],
      "execution_count": null,
      "outputs": []
    },
    {
      "cell_type": "markdown",
      "metadata": {
        "id": "CxxmzE3cLGIu"
      },
      "source": [
        "If you want to \"look up\" the value for a given key, you just use the square brackets:"
      ]
    },
    {
      "cell_type": "code",
      "metadata": {
        "id": "xbibVPu_LKeI"
      },
      "source": [
        "print(someDict[\"Fred\"]) # get the value associated with the key \"Dylan\"\n",
        "print(someDict[\"Kate\"]) # get the value associated with the key \"Kate\""
      ],
      "execution_count": null,
      "outputs": []
    },
    {
      "cell_type": "code",
      "metadata": {
        "id": "RdTLouOaLS9J"
      },
      "source": [
        "someDict[\"Ooblek the Goblin\"] # This will throw an KeyError because we didn't associate a value with the key \"Ooblek the Goblin\""
      ],
      "execution_count": null,
      "outputs": []
    },
    {
      "cell_type": "markdown",
      "metadata": {
        "id": "4b1AhULOLZGL"
      },
      "source": [
        "If you want to remove an item from a dictionary, you can use pop() as with lists, but you must supply the key of the item you want to remove:"
      ]
    },
    {
      "cell_type": "code",
      "metadata": {
        "id": "Y3NfLBg0Lokg"
      },
      "source": [
        "someDict.pop() # This will throw a TypeError, because the dictionary's version of pop() expects an argument"
      ],
      "execution_count": null,
      "outputs": []
    },
    {
      "cell_type": "code",
      "metadata": {
        "id": "j-XN9OgMLqjt"
      },
      "source": [
        "someDict.pop(\"Fred\") # this will remove the key,value pair associated with the key \"Fred\" from the dictionary"
      ],
      "execution_count": null,
      "outputs": []
    },
    {
      "cell_type": "markdown",
      "metadata": {
        "id": "EqM4P7YwLv8p"
      },
      "source": [
        "You can get all the keys or all the values or all the key,value pairs in a dictionary by using the .keys() or .values() or .items() \"methods\"  (a method is like a function that \"belongs\" to an object -- we'll talk more about this later when we talk about classes and objects):"
      ]
    },
    {
      "cell_type": "code",
      "metadata": {
        "id": "U8Kv9D0RL8_L"
      },
      "source": [
        "someKeys=someDict.keys()\n",
        "print(someKeys)\n",
        "\n",
        "someValues=someDict.values() # returns the values of someDict as a list\n",
        "print(someValues)\n",
        "\n",
        "someItems=someDict.items()\n",
        "print(someItems)\n",
        "# Try converting someKeys to a list by wrapping it with the list() function"
      ],
      "execution_count": null,
      "outputs": []
    },
    {
      "cell_type": "markdown",
      "metadata": {
        "id": "zyjU44FIMQ4-"
      },
      "source": [
        "If you want to know whether a particular object is used as a key in a dictionary, or if a particular object is stored as a value in a dictionary, you can use the \"in\" keyword:"
      ]
    },
    {
      "cell_type": "code",
      "metadata": {
        "id": "qqmeOWHmMb20"
      },
      "source": [
        "\"Kate\" in someDict.keys() # returns True, since \"Kate\" is in someDict.keys()"
      ],
      "execution_count": null,
      "outputs": []
    },
    {
      "cell_type": "markdown",
      "metadata": {
        "id": "SHTCzI5T030y"
      },
      "source": [
        "# Working with strings"
      ]
    },
    {
      "cell_type": "markdown",
      "metadata": {
        "id": "czxABMOLK1y2"
      },
      "source": [
        "Strings are pervasive in any programming endeavor, particularly when you are processing data.  Python provides several functions and methods to make working with strings easier.\n",
        "\n",
        "Some of the most useful string methods are:\n",
        " - strip() - remove leading or trailing characters from a string\n",
        " - replace() - replace the occurence of a substring inside a string with another substring\n",
        " - join() - join the elements of a list together as a string with a specificed separating substring.\n",
        " - split() - split up a string by a separating substring and return a list of those parts.\n",
        "\n",
        " Let's see how these work:"
      ]
    },
    {
      "cell_type": "code",
      "metadata": {
        "id": "N5FMqXeAMJ8e"
      },
      "source": [
        "helloStr=\"Hello world.\\n\"\n",
        "print(helloStr.strip()) # by default, strip() will remove whitespace characters, such as \"\\n\" and \" \"\n",
        "print(helloStr.strip(\"\\n.\")) # If you specify more than one character, it will remove each character from the head and tail\n",
        "print(helloStr.strip(\"\\nH.er\")) # notice the 'r' was not removed, since it is not at the end or beginning of the string when all others chars are removed"
      ],
      "execution_count": null,
      "outputs": []
    },
    {
      "cell_type": "code",
      "metadata": {
        "id": "pP_L8H-rOqPb"
      },
      "source": [
        "helloStr.strip(\"\\n\").strip(\".\") # You can chain multiple strip() calls together, since the return of the first call is also a string that has the strip() method"
      ],
      "execution_count": null,
      "outputs": []
    },
    {
      "cell_type": "code",
      "metadata": {
        "id": "iS8hv4iPOV52"
      },
      "source": [
        "helloStr.replace(\"lo world\",\"l yeah\") # this will replace the occurrence of the substring \"lo world\" with \"l yeah\""
      ],
      "execution_count": null,
      "outputs": []
    },
    {
      "cell_type": "code",
      "metadata": {
        "id": "pLmW9aJsQ9bc"
      },
      "source": [
        "helloStr.replace(\"lo world\",\"l yeah\").replace(\"yeah.\",\"no to the no to the no!\") # You can also chain replace() calls together as well."
      ],
      "execution_count": null,
      "outputs": []
    },
    {
      "cell_type": "code",
      "metadata": {
        "id": "PqvkclGvPE8O"
      },
      "source": [
        "dieHard1=\"Yippee ki yay\"\n",
        "dieHard2=\"mother falcon\"\n",
        "dieHardList=[dieHard1,dieHard2]\n",
        "print(dieHardList)\n",
        "dieHardFull=\", \".join(dieHardList) # join all the elements of the list by connecting them with the separating substring \", \"\n",
        "print(dieHardFull)"
      ],
      "execution_count": null,
      "outputs": []
    },
    {
      "cell_type": "code",
      "metadata": {
        "id": "Gyg9CLmGQkeY"
      },
      "source": [
        "\",\".join([1,2,3]) # This will throw an error, because join only works on lists if all the elements of the list are of type string"
      ],
      "execution_count": null,
      "outputs": []
    },
    {
      "cell_type": "markdown",
      "metadata": {
        "id": "pwMaMoYbkPQ9"
      },
      "source": [
        "\n",
        "Often you want to create a string from other variables. There are a couple of ways to do this in Python:\n",
        " - f-strings (formatted string literals)\n",
        " - using the .format() method of strings\n",
        "\n",
        "I won't talk about these in detail but instead just show some examples of how they work. If you want to know more, have a look at [this python3 docs page](https://docs.python.org/3/tutorial/inputoutput.html#input-and-output)\n"
      ]
    },
    {
      "cell_type": "code",
      "metadata": {
        "id": "45k6lhPFlKVJ"
      },
      "source": [
        "# Examples of formatings strings that incorporate variables\n",
        "\n",
        "from math import sqrt # don't worry about this line yet, I'll talk about it later\n",
        "\n",
        "# Example using f-strings\n",
        "x = 3.0\n",
        "y = 4.0\n",
        "z = sqrt(x**2+y**2)\n",
        "\n",
        "print(f'The value of z is {z}, which is determined by the square root of {x} squared plus {y} squared.')\n",
        "# notice it will print out the variable (correctly converted to a string) if you wrap the variable name in curly brackets."
      ],
      "execution_count": null,
      "outputs": []
    },
    {
      "cell_type": "code",
      "metadata": {
        "id": "8WhMndmjW3Oy"
      },
      "source": [
        "# Example using the format() method\n",
        "hero = 'John McClane'\n",
        "villain = 'Hans Gruber'\n",
        "\n",
        "storyString = '{} defeated {} by dropping him out of a window.'.format(hero,villain)\n",
        "print(storyString)"
      ],
      "execution_count": null,
      "outputs": []
    },
    {
      "cell_type": "code",
      "metadata": {
        "id": "Lxe-H_bEW1Ep"
      },
      "source": [
        "storyString2 = 'The reason why {} cut his feet is because {} said \"Shoot the Glass\"'.format(hero, villain)\n",
        "# notice, you can use double quotes within a string if you define the string with single quotes.\n",
        "#  You can also do the opposite.\n",
        "print(storyString2)"
      ],
      "execution_count": null,
      "outputs": []
    },
    {
      "cell_type": "markdown",
      "metadata": {
        "id": "71hclOKnxi6s"
      },
      "source": [
        "Personally, I find f-strings to be the most convenient way to print things in python and will mostly stick with this."
      ]
    },
    {
      "cell_type": "markdown",
      "metadata": {
        "id": "4HPTe28PMieo"
      },
      "source": [
        "# If / Else statements\n",
        "\n",
        "We can execute a block of code conditionally by testing for a condition using an *if statement*\n"
      ]
    },
    {
      "cell_type": "code",
      "metadata": {
        "id": "BxX5IFpsMxXN"
      },
      "source": [
        "someBool=True\n",
        "\n",
        "if someBool:\n",
        "  print(\"someBool is True.\")\n",
        "# pay attention to the \"whitespace\" in Python.  The indentation must be accomplished with a \"tab\",\n",
        "#  it can't be \"spaces\".  Most IDEs or Jupyter will automatically assume an indent for you after you type the \":\""
      ],
      "execution_count": null,
      "outputs": []
    },
    {
      "cell_type": "markdown",
      "metadata": {
        "id": "OPM-LWtdNFrk"
      },
      "source": [
        "You can also include an else codeblock following the if:"
      ]
    },
    {
      "cell_type": "code",
      "metadata": {
        "id": "sjsHPybDNDIV"
      },
      "source": [
        "someInt = 10\n",
        "\n",
        "if someInt<9:\n",
        "    print(\"someInt is less than 9.\")\n",
        "else:\n",
        "    print(\"someInt is greater than or equal to 9.\")\n",
        "# Change the value of someInt and re-run the above codeblock to see what happens."
      ],
      "execution_count": null,
      "outputs": []
    },
    {
      "cell_type": "markdown",
      "metadata": {
        "id": "UD_nYzzLNV0w"
      },
      "source": [
        "And you can test for many conditions by using an if-elif-else chain:"
      ]
    },
    {
      "cell_type": "code",
      "metadata": {
        "id": "ybDGCNSiNcFG"
      },
      "source": [
        "someInt = 8\n",
        "if someInt<5:\n",
        "    print(\"someInt is less than 5.\")\n",
        "elif someInt>=7:  # here >=5 means greater than or equal to 5 ; elif means \"else if\"\n",
        "    print(\"someInt is greater than or equal to 5 and is greater than or equal to 7.\")\n",
        "else:\n",
        "    print(\"If someInt is really an integer, it must be either 5 or 6.\")\n",
        "# Change the value of someInt and re-run the above codeblock to see what happens.\n",
        "# Notice the chain of logic:\n",
        "#   The codeblock of \"elif someInt>=7\" only executes if the codeblock \"if someInt<5\" did not execute.\n",
        "#   The codeblock of \"else\" only executes if both the codeblocks of \"if someInt<5\" and \"elif someInt>=7\" did not execute\n",
        "# We could have added another elif codeblock before the else codeblock to check if someInt>=6.\n",
        "#  Modify the above code to do that (don't forget the modify the print statements so that your new code makes sense)\n",
        "#  and then re-run the example."
      ],
      "execution_count": null,
      "outputs": []
    },
    {
      "cell_type": "markdown",
      "metadata": {
        "id": "i4ftRX-O4F_q"
      },
      "source": [
        "# Loops"
      ]
    },
    {
      "cell_type": "markdown",
      "metadata": {
        "id": "fK47ccqdNqDj"
      },
      "source": [
        "Loops allow you to execute the same codeblock multiple times without having to rewrite it.  There are two types:\n",
        "* while loop - loop over a codeblock until the condition evaluates to False\n",
        "* for loop - loop over a codeblock a certain number of times (or iterating over the elements of a collection)\n",
        "\n",
        "While loops look like this:\n",
        "\n",
        "```\n",
        "while statement:\n",
        "  codeblock\n",
        "```\n",
        "\n",
        "For loops look like this:\n",
        "```\n",
        "for variable in collection:\n",
        "  codeblock\n",
        "```"
      ]
    },
    {
      "cell_type": "code",
      "metadata": {
        "id": "m5j6dftVOXzp"
      },
      "source": [
        "someCounter = 0\n",
        "\n",
        "while someCounter<10:\n",
        "    print(someCounter)\n",
        "    someCounter+=1\n",
        "# notice the order of the two lines in the while codeblock matter.\n",
        "#   Here we first print out someCounter and then increment it.\n",
        "#   If you reverse the order of these two lines, the printout will be different.  Try it."
      ],
      "execution_count": null,
      "outputs": []
    },
    {
      "cell_type": "code",
      "metadata": {
        "id": "X8ggu_iUOJV9"
      },
      "source": [
        "countUpList=range(0,10)\n",
        "for x in countUpList:\n",
        "    print(x)"
      ],
      "execution_count": null,
      "outputs": []
    },
    {
      "cell_type": "code",
      "metadata": {
        "id": "z-EgEXOaONou"
      },
      "source": [
        "# a more compact version of the above without defining the countUpList:\n",
        "for x in range(0,10):\n",
        "    print(x)\n",
        "\n",
        "# in general, for loops can iterate over any collection"
      ],
      "execution_count": null,
      "outputs": []
    },
    {
      "cell_type": "markdown",
      "metadata": {
        "id": "Vct07wFt4J8m"
      },
      "source": [
        "# List and Dictionary Comprehensions"
      ]
    },
    {
      "cell_type": "markdown",
      "metadata": {
        "id": "ppiSLNIDO3CQ"
      },
      "source": [
        "Often you want to loop over one collection and generate another collection from it. Comprehensions allow you to \"transform\" one collection to another collection by operating on the elements of the collection and setting the result as an element in the new collection.\n",
        "\n",
        "You could of course accomplish this with for loops, but comprehensions allow you to do so in a very compact way."
      ]
    },
    {
      "cell_type": "code",
      "metadata": {
        "id": "twpN1MKvPX_1"
      },
      "source": [
        "aRange = range(1,6) #defines the list [1,2,3,4,5]\n",
        "aListFromComprehension = [x**2 for x in aRange] # make a new list where each element is the element in aRange squared\n",
        "print(aListFromComprehension)"
      ],
      "execution_count": null,
      "outputs": []
    },
    {
      "cell_type": "markdown",
      "metadata": {
        "id": "OaiqihRbPifx"
      },
      "source": [
        "Dictionary comprehensions are very similar to list comprehensions, but they use the curly brackets and you have to specify the key, value pair:"
      ]
    },
    {
      "cell_type": "code",
      "metadata": {
        "id": "4v-PYvcRPq42"
      },
      "source": [
        "aDict = {1:\"Sarah\",2:\"Xia\", 3:\"Arun\"}\n",
        "aDictFromComprehension = {k:v+\" is awesome\" for k,v in aDict.items()}\n",
        "print(aDictFromComprehension)"
      ],
      "execution_count": null,
      "outputs": []
    },
    {
      "cell_type": "markdown",
      "metadata": {
        "id": "-CQSFAYd4N3m"
      },
      "source": [
        "# Functions"
      ]
    },
    {
      "cell_type": "markdown",
      "metadata": {
        "id": "GRanlXi88Pg1"
      },
      "source": [
        "Functions permit you to take a sub-task that you might need to do more than once and separate its functionality from the rest of your code (i.e., modularity)\n",
        "\n",
        "Functions take arguments as inputs and produce some output.\n",
        "\n",
        "Note that the variables defined within a function will not be available to code outside of the function.  Similarly, only the argument variables that are \"passed in\" to the function are available for reference within the function (with the exception of variables that are \"globally defined\").\n",
        "\n",
        "functions are defined like this:\n",
        "```\n",
        "def someFunction(arguments):\n",
        "  codeblock\n",
        "```\n",
        "\n",
        "where the codeblock may include a \"return someVariable\" statement at the end which specifies that someVariable is the output (though every function need not have a return).\n"
      ]
    },
    {
      "cell_type": "code",
      "metadata": {
        "id": "w5PGNVWT84rL"
      },
      "source": [
        "# define a function\n",
        "def sayHello():\n",
        "  print(\"Hello\")\n",
        "\n",
        "# run the function\n",
        "sayHello()"
      ],
      "execution_count": null,
      "outputs": []
    },
    {
      "cell_type": "code",
      "metadata": {
        "id": "-E8wgaLT9CBc"
      },
      "source": [
        "# define a function with two inputs (num1 and num2) and return the total\n",
        "def addNumbers(num1,num2):\n",
        "  total=num1+num2\n",
        "  return total\n",
        "\n",
        "# run the addNumbers function\n",
        "foo = addNumbers(1,3)\n",
        "print(foo)"
      ],
      "execution_count": null,
      "outputs": []
    },
    {
      "cell_type": "markdown",
      "metadata": {
        "id": "06rMn36FNnTM"
      },
      "source": [
        "The inputs or \"arguments\" to the function, ```num1``` and ```num2``` get assigned their values when we call the function. So when we ran ```addNumbers(1,3)```, before python ran any of the code inside the function it defined the variables within the function as if we had written:\n",
        "```python\n",
        "num1 = 1\n",
        "num2 = 3\n",
        "```\n",
        "that's why, inside the function when we called `total = num1 + num2` python was able to calculate the value `4` and assign it to `total`. When it did this, it used the position of the arguments to figure out which value was assigned to which variable name.\n"
      ]
    },
    {
      "cell_type": "markdown",
      "metadata": {
        "id": "ZUXPTSCHfII_"
      },
      "source": [
        "\n",
        "***IMPORTANT: Any values passed into a function as arguments and any variables that are defined within a function cannot be accessed by code outside of the function.  Once the function has run, all those things will \"cease to exist\".***"
      ]
    },
    {
      "cell_type": "code",
      "metadata": {
        "id": "8LimI5W49LWW"
      },
      "source": [
        "# notice that the variable total is only defined within the scope of the function and isn't available outside\n",
        "print(total) #this will return a NameError because 'total' isn't defined"
      ],
      "execution_count": null,
      "outputs": []
    },
    {
      "cell_type": "code",
      "metadata": {
        "id": "at9_HkmkPbYN"
      },
      "source": [
        "# notice that the argument num1 is not defined outside of the function either:\n",
        "print(num1) #this will return a NameError because 'num1' isn't defined"
      ],
      "execution_count": null,
      "outputs": []
    },
    {
      "cell_type": "markdown",
      "metadata": {
        "id": "BQmoe9sFTv7C"
      },
      "source": [
        "On the other hand, you can pass in a variable that you have already defined in your code as an argument to a function:"
      ]
    },
    {
      "cell_type": "code",
      "metadata": {
        "id": "IjCq_aOtT373"
      },
      "source": [
        "x = 4\n",
        "tot = addNumbers(x,3) # assign the value returned by addNumbers() to the variable tot\n",
        "print(tot)\n",
        "print(x) # since we defined x as a variable in our main code, we can reference it."
      ],
      "execution_count": null,
      "outputs": []
    },
    {
      "cell_type": "markdown",
      "metadata": {
        "id": "tMug20z5UeO_"
      },
      "source": [
        "When ```addNumbers(x,4)``` is called above, python will assign the value of x to the variable ```num1``` for use inside the function.  You can access the variable ```x``` after the function has finished running, but not ```num1```."
      ]
    },
    {
      "cell_type": "code",
      "metadata": {
        "id": "b0lJd4cf9ONP"
      },
      "source": [
        "# run the function again with different inputs:\n",
        "addNumbers(2,6)"
      ],
      "execution_count": null,
      "outputs": []
    },
    {
      "cell_type": "code",
      "metadata": {
        "id": "LCTAWQTU9STm"
      },
      "source": [
        "# save the output of the function in a variable\n",
        "someTotal = addNumbers(3,5)\n",
        "print(someTotal)"
      ],
      "execution_count": null,
      "outputs": []
    },
    {
      "cell_type": "markdown",
      "metadata": {
        "id": "j4xRHHNYfTmS"
      },
      "source": [
        "It's also possible to call a function using the names of the arguments as keywords instead of letting python infer which argument name gets assigned which argument value by position. Consider this function:"
      ]
    },
    {
      "cell_type": "code",
      "metadata": {
        "id": "RdmTsnuyfZZB"
      },
      "source": [
        "def divideFunc(numerator, denominator):\n",
        "  result = 1.0*numerator/denominator\n",
        "  return result"
      ],
      "execution_count": null,
      "outputs": []
    },
    {
      "cell_type": "markdown",
      "metadata": {
        "id": "spJoeBQZgVo0"
      },
      "source": [
        "If we supply the names of the arguments with keywords when we call the fucntion, python will assign them appropriately, regardless of their order:"
      ]
    },
    {
      "cell_type": "code",
      "metadata": {
        "id": "I7-RLdOngT-h"
      },
      "source": [
        "res = divideFunc(numerator = 1.0, denominator = 2.0)\n",
        "print(res)\n",
        "\n",
        "res = divideFunc(denominator = 2.0, numerator = 1.0)\n",
        "print(res)\n",
        "# Both function calls will return a result of 0.5"
      ],
      "execution_count": null,
      "outputs": []
    },
    {
      "cell_type": "markdown",
      "metadata": {
        "id": "5WL0qTcNhoSj"
      },
      "source": [
        "We can also give a default value to arguments (when we define a function) that will be used if we don't supply a value. If we do, we have to put all the arguments that have a default value at the end of the argument list.\n",
        "\n",
        "Let's modify our ```divideFunc``` to do this:"
      ]
    },
    {
      "cell_type": "code",
      "metadata": {
        "id": "KCjUc8Pch9IV"
      },
      "source": [
        "def divideFunc(denominator, numerator = 1.0):\n",
        "  result = 1.0*numerator/denominator\n",
        "  return result"
      ],
      "execution_count": null,
      "outputs": []
    },
    {
      "cell_type": "code",
      "metadata": {
        "id": "G8--iJXwiDjE"
      },
      "source": [
        "res = divideFunc(2.0) # because I didn't specify both arguments, python assumes numerator will take its default value of 1.0\n",
        "print(res)\n",
        "\n",
        "res = divideFunc(2.0,1.0) # Here python will infer the arguments by position. So denominator will be assigned 2.0 and numerator will be assigned 1.0\n",
        "print(res)\n",
        "\n",
        "res = divideFunc(numerator = 1.0, denominator = 2.0) # Here python assigns the values to the arguments by keyword\n",
        "print(res)\n",
        "# All the above function calls will return the same value of 0.5"
      ],
      "execution_count": null,
      "outputs": []
    },
    {
      "cell_type": "markdown",
      "metadata": {
        "id": "KnUg1rzWRAZE"
      },
      "source": [
        "Finally, if you need to create a quick function that is only used in one place in your code, you can use a **lambda** function.\n",
        "\n",
        "Lambda function can be placed anywhere that you would normally call a function (e.g., `someFunc()`):\n",
        "```\n",
        "y = someFunc(x)\n",
        "```\n",
        "\n",
        "by instead writing:\n",
        "```\n",
        "lambda someInput: someExpressionToOutput\n",
        "```\n",
        "\n",
        "So, for example instead of writing:\n",
        "```\n",
        "def someFunction(x):\n",
        "  return x+2\n",
        "\n",
        "y = someFunction(5)\n",
        "```\n",
        "\n",
        "we could simply write:"
      ]
    },
    {
      "cell_type": "code",
      "metadata": {
        "id": "sy6_IklIRdmx"
      },
      "source": [
        "(lambda x: x + 2)(5)"
      ],
      "execution_count": null,
      "outputs": []
    },
    {
      "cell_type": "markdown",
      "metadata": {
        "id": "3-DuGnd63YNs"
      },
      "source": [
        "# Deliverable: Working with Lists and Dictionaries"
      ]
    },
    {
      "cell_type": "markdown",
      "metadata": {
        "id": "EX9cCMUj_mGV"
      },
      "source": [
        "* In the codeblock below, create a list object to store the names of actors in you favorite movie(s).\n",
        "* Now add some names to it.\n",
        "* Print out the entire list\n",
        "\n",
        "\n"
      ]
    },
    {
      "cell_type": "code",
      "metadata": {
        "id": "4vZ2fCiIAF9D",
        "colab": {
          "base_uri": "https://localhost:8080/"
        },
        "outputId": "e90ddb0b-7320-4795-ff97-eec0260f1364"
      },
      "source": [
        "# Test you knowledge of lists and dictionaries-- enter you code in this cell\n",
        "lst = []\n",
        "# Make your list of actors in your favorite movie(s)\n",
        "lst.extend([\"Denzel Washington\", \"Sandra Bullock\", \"Megan Good\"])\n",
        "print(lst)\n"
      ],
      "execution_count": null,
      "outputs": [
        {
          "output_type": "stream",
          "name": "stdout",
          "text": [
            "['Denzel Washington', 'Sandra Bullock', 'Megan Good']\n"
          ]
        }
      ]
    },
    {
      "cell_type": "markdown",
      "metadata": {
        "id": "sjZRGK_AFm55"
      },
      "source": [
        "* Now create a dictionary where each key is a character from a movie and the corresponding value is the name of the actor that played that character.\n",
        "* Using your dictionary, print out only the actors names\n",
        "* Using your dictionary, print out only the character names"
      ]
    },
    {
      "cell_type": "code",
      "metadata": {
        "id": "ksQKQHONFsw1",
        "colab": {
          "base_uri": "https://localhost:8080/"
        },
        "outputId": "a127f01a-78ec-4e35-fde6-e27411e3269c"
      },
      "source": [
        "# Make your dictionary\n",
        "dict = {\"Denzel Washington\":\"Out of Time\", \"Sandra Bullock\": \"The Heat\", \"Megan Good\": \"Roll Bounce\"}\n",
        "# print out only the actors names\n",
        "print(dict.keys())\n",
        "# print out only the character names\n",
        "print(dict.values())\n",
        "\n"
      ],
      "execution_count": null,
      "outputs": [
        {
          "output_type": "stream",
          "name": "stdout",
          "text": [
            "dict_keys(['Denzel Washington', 'Sandra Bullock', 'Megan Good'])\n",
            "dict_values(['Out of Time', 'The Heat', 'Roll Bounce'])\n"
          ]
        }
      ]
    },
    {
      "cell_type": "markdown",
      "metadata": {
        "id": "WC7pPgrV3d5U"
      },
      "source": [
        "# Deliverable: Working with Functions"
      ]
    },
    {
      "cell_type": "markdown",
      "metadata": {
        "id": "kCpoD2dfALmR"
      },
      "source": [
        "Write a function that takes two arguments, a list and a string. The string should be the name of an actor. The list should be the same list that you defined above. The function should check whether the string is in the list and, if so, print out a saying such as \"Yes, Bruce Willis is in die hard.\"\n",
        "\n",
        "* Write the function described above\n",
        "* Run it by calling the function and passing it two arguments, the name of an actor and the list you created from the last exercise."
      ]
    },
    {
      "cell_type": "code",
      "metadata": {
        "id": "IT_RHEEbCkzs",
        "colab": {
          "base_uri": "https://localhost:8080/"
        },
        "outputId": "e47a0f9e-25c9-4966-cb75-85306035dc8e"
      },
      "source": [
        "# Test your knowledge of functions\n",
        "def new_funct():\n",
        "  lst = [\"Denzel Washington\", \"Sandra Bullock\", \"Megan Good\"]\n",
        "# define your function\n",
        "  new_string = \"Jennifer Anniston\"\n",
        "# Run your function by passing it a string of an actor's name and the list you created in the last exercise\n",
        "  if any (new_string in i for i in lst):\n",
        "    print(f'{new_string} is present in the list.')\n",
        "  else:\n",
        "    print(\"Nope!\")\n",
        "\n",
        "new_funct()"
      ],
      "execution_count": null,
      "outputs": [
        {
          "output_type": "stream",
          "name": "stdout",
          "text": [
            "Nope!\n"
          ]
        }
      ]
    },
    {
      "cell_type": "markdown",
      "metadata": {
        "id": "W0cvmK2Dymuv"
      },
      "source": [
        "In python, we will frequently want to use code that others have written to make our job easier. In other words, we need to work with **modules** (often called libraries in other languages). A lot of the core functionality that Python offers is broken up into separate modules that you need to import into your code if you want to use.  The standard way of doing this is:\n",
        "```\n",
        "import modulename\n",
        "```\n",
        "\n",
        "or, if you want to import it as a different name:\n",
        "\n",
        "```\n",
        "import modulename as someName\n",
        "```\n",
        "\n",
        "You may also see\n",
        "```\n",
        "from modulename import object\n",
        "```\n",
        "which is used to import one of the objects that a module contains.\n",
        "\n",
        "\n",
        "Here we will import the os module to access some elements of the filesystem.\n",
        "\n",
        "Every operating system provides functionality to programs -- one part of which is accessing and manipulating the file system. This will allow us to do things like:\n",
        "* get or change the current working directory\n",
        "* access environment variables\n",
        "* navigate the file system (deal with file paths)\n",
        "* work with users and groups\n",
        "\n",
        "Here we will only use it to get the name of the OS and to get the current working directory."
      ]
    },
    {
      "cell_type": "code",
      "metadata": {
        "id": "p3k3OzbjypEt"
      },
      "source": [
        "import os # import the os module\n",
        "\n",
        "#get the name of the os\n",
        "print(os.name)\n",
        "print(os.getcwd())\n",
        "\n",
        "#os.mkdir('./test')\n"
      ],
      "execution_count": null,
      "outputs": []
    },
    {
      "cell_type": "markdown",
      "metadata": {
        "id": "2CxUGpH6_JKM"
      },
      "source": [
        "Now lets open a file for writing, write some content into it and close the file."
      ]
    },
    {
      "cell_type": "code",
      "metadata": {
        "id": "469KJpNn9gWl"
      },
      "source": [
        "myfile = open('myfile.txt','w') # open a file for writing\n",
        "myfile.write(\"Hello World.\\n\") # write a line to the file\n",
        "myfile.close() # close the file"
      ],
      "execution_count": null,
      "outputs": []
    },
    {
      "cell_type": "markdown",
      "metadata": {
        "id": "55MAQjKQ_hif"
      },
      "source": [
        "However, there is a more common way that is used to open files or really any object that has a notion of \"open\" and \"close\" (or \"enter\" and \"exit\") -- such as a resource that you want to use temporarily but eventually let go.\n",
        "\n",
        "The approach I'm talking about is the  \"with... as\" pattern and it looks like this:\n",
        "```\n",
        "with someValue as someVariable:\n",
        "  do something with someVariable here\n",
        "```\n",
        "\n",
        "You don't have to worry too much about what is happening here -- I just want you to be aware of the \"with...as\" pattern because it is useful, used regularly by many, and you will see it again later when we talk about neural networks.  [You can read more about it if you want](https://www.geeksforgeeks.org/with-statement-in-python/), but for now just think of it as a way to ensure that the file is closed properly after we write to it."
      ]
    },
    {
      "cell_type": "code",
      "metadata": {
        "id": "BE8PEQAq_N13"
      },
      "source": [
        "# There's another more common way to open a file that ensures that it will be closed when you are done:\n",
        "with open('myfile2.txt','w') as f:\n",
        "  f.write(\"Testing.\")\n",
        "# notice we don't have to call f.close()"
      ],
      "execution_count": null,
      "outputs": []
    },
    {
      "cell_type": "markdown",
      "metadata": {
        "id": "HSF43xkt1f5o"
      },
      "source": [
        "After running the above two code cells, you have actually created files on the machine that google is using to host your colab session. Where are these files? (I'm glad you asked).\n",
        "\n",
        "You  can see the files on a Google Colab hosted machine by clicking the little right arrow to open up the navigation  pane:\n",
        "<img src=\"https://drive.google.com/uc?id=1datflIPAEGViv9IRUCSAm5rTbqM1tHFZ\" width=400>\n",
        "\n",
        "This is the navigation pane. Now select the Files tab:\n",
        "<img src=\"https://drive.google.com/uc?id=1-bQ-6798HfIZ5YbueBED8CpcxsCHxidR\" width=700>\n",
        "\n",
        "Double click on \"myfile.txt\". You should see it open on the screen and display the contents of the file.  Have a look at both files that you created. You can even edit the contents of the files if you want and save them using this very lightweight editor. Try this out now and save it, then we'll read the file back again to see what you wrote.\n",
        "\n",
        "We can also open an existing file for reading. The procedure is similar, but instead of using the argument 'w' (for 'write') in the open() function, we will use 'r' (for 'read'):\n",
        "\n"
      ]
    },
    {
      "cell_type": "code",
      "metadata": {
        "id": "DyJVK4HwzBHF"
      },
      "source": [
        "with open('myfile.txt','r') as f:\n",
        "  lines=f.readlines() # the readlines() method of the file object will return all the lines in the file as a list (one element for each line)\n",
        "\n",
        "print(type(lines))\n",
        "print(lines)"
      ],
      "execution_count": null,
      "outputs": []
    },
    {
      "cell_type": "markdown",
      "metadata": {
        "id": "7pZlcxyLE6ap"
      },
      "source": [
        "Notice that the `readlines()` method of the file object returns a list.\n",
        "\n",
        "Also notice that the newline character ('\\n') terminates the string. Often you will have to process the lines of a file if you want to get rid of these and other artifacts.\n",
        "\n",
        "It is also possible to open a *binary* file for writing or reading with the 'wb' and 'wr' arguments, if you want to store binary information in a file.\n",
        "\n",
        "We can use the os module to do more. For example, we can create a new directory. Let's try this now:\n"
      ]
    },
    {
      "cell_type": "code",
      "metadata": {
        "id": "-YGacSdchsiZ"
      },
      "source": [
        "# Use the os module to create a new directory\n",
        "os.mkdir('./test') # this will create a new folder called \"test\" in the current working directory.\n",
        "#  The \"./\" means \"here\", as in \"I want you to make the folder test here, in the current working directory\"\n",
        "\n",
        "# We can now change the working directory to the one we just created.\n",
        "os.chdir(\"./test\")\n",
        "print(os.getcwd())\n",
        "\n",
        "os.chdir(\"/content\") # change the current working directory back again"
      ],
      "execution_count": null,
      "outputs": []
    },
    {
      "cell_type": "markdown",
      "metadata": {
        "id": "aDsxF-U2ibz3"
      },
      "source": [
        "Note that we can use the file browser in google colab to see the directory we just created. We can right click on it to delete it if we want.\n",
        "\n",
        "More details on the os module can be found in [the Python3 docs for os](https://docs.python.org/3.8/library/os.html)\n",
        "\n",
        "More details on working with files can be found in [the Python3 docs for files](https://docs.python.org/3.8/tutorial/inputoutput.html?highlight=files#reading-and-writing-files)"
      ]
    },
    {
      "cell_type": "markdown",
      "metadata": {
        "id": "CnA_iNnnKOd1"
      },
      "source": [
        "Often, programs use files to store information so that it persists even after the program has been closed.  This could include information that the user entered, the state of the program, custom settings the user may have changed and so on.\n",
        "\n",
        "In order to do this, the programmer has to translate this information into something that can be saved in a file (or many files). Remember a text file is just a sequence of characters (including commas, new lines, etc.). A binary file is just a sequence of bits.  We have to know how to interpret these characters or bits in order to make sense of the file. In other words, we have to know the format of the file. Let's understand this by trying to make our own file format.\n",
        "\n",
        "Do the following in the code blocks below:\n",
        "1. Write a program to save to a file the list of actors in your favorite movie that you made earlier.\n",
        " - note: you cannot just \"write\" a list to a file using f.write(someList). You can only write strings to a text file, so you will have to loop over its elements.\n",
        "2. Write a program to open the file you created in (1) and read from it to \"re-create\" the list of actors in your favorite movie from the file.\n"
      ]
    },
    {
      "cell_type": "code",
      "metadata": {
        "id": "i1rbpPPJX29O"
      },
      "source": [
        "# 1. Below, write a program to write the list of actors in your favorite movie to a file\n",
        "lst = [\"Denzel Washington\", \"Sandra Bullock\", \"Megan Good\"]\n",
        "myfile = open('my_file.text', 'w')\n",
        "for element in lst:\n",
        "  myfile.write(element + \"\\n\")\n",
        "myfile.close()"
      ],
      "execution_count": null,
      "outputs": []
    },
    {
      "cell_type": "code",
      "metadata": {
        "id": "FXP1F9SQYCUW",
        "colab": {
          "base_uri": "https://localhost:8080/"
        },
        "outputId": "e5383c2d-b43f-422e-de3d-7d14c42924df"
      },
      "source": [
        "# 2. Below, write a program to open the file from (1) and read the list of actors in your favorite movie into a list. Then, print out the list.\n",
        "with open ('my_file.text') as f:\n",
        "  contents = f.read()\n",
        "  print(contents)"
      ],
      "execution_count": null,
      "outputs": [
        {
          "output_type": "stream",
          "name": "stdout",
          "text": [
            "Denzel Washington\n",
            "Sandra Bullock\n",
            "Megan Good\n",
            "\n"
          ]
        }
      ]
    },
    {
      "cell_type": "markdown",
      "metadata": {
        "id": "wzyNrJZfYN9a"
      },
      "source": [
        "Congratulations!  Now you know how to save a list of strings to a file.\n",
        "\n",
        "What about a more complicated structure like a dictionary?  Remember, a dictionary stores key/value pairs. If you wanted to write the contents of a dictionary to a file, you need a way to distinguish each pair from one another and to distinguish the key from the value.\n",
        "\n",
        "Do the following in the code blocks below:\n",
        "3. Write a program to save to a file the dictionary of character names/actor names that you made earlier.\n",
        " - note: that you cannot just \"write\" a dictionary to a file using f.write(someDictionary). You can only write strings to a text file, so you will have to loops over the items of the dictionary and come up with a scheme -- i.e., find a way to write the key and the value together in some way that you can distinguish them.\n",
        "    - Hint: You can make use of special characters (such as \",\" or \":\") as *separators* to separate the key part fron the value part of a single string. You may need to use string methods like join() and split().\n",
        "4. Write a program to open the file you created in (3) and read from it to \"recreate\" the the dictionary of character names/actor names in your favorite movie.\n",
        "  - Hint: Whatever scheme you decided to use in (3) to distinguish the key part from the value part of a string, you will have to be aware of it and use string methods like split() to break up the string into its separate parts.\n",
        "\n",
        "\n",
        "\n"
      ]
    },
    {
      "cell_type": "code",
      "metadata": {
        "id": "qygTKzwAa9sM"
      },
      "source": [
        "# 3. Below, write a program to write the dictionary of character names/actor names into a file.\n",
        "import json\n",
        "dict1 = {\"Denzel Washington\":\"Out of Time\", \"Sandra Bullock\": \"The Heat\", \"Megan Good\":\"Roll Bounce\"}\n",
        "dictfile = open('my_dict.text', 'w')\n",
        "for key, value in dict1.items():\n",
        "  dictfile.write('%s:%s\\n' % (key, value))\n",
        "dictfile.close()"
      ],
      "execution_count": null,
      "outputs": []
    },
    {
      "cell_type": "code",
      "metadata": {
        "id": "3SDn6yrabIuR",
        "colab": {
          "base_uri": "https://localhost:8080/"
        },
        "outputId": "a2b1a1cd-bffb-478b-e043-7012bde9b0b2"
      },
      "source": [
        "# 4. Below, write a program to open the file from (3) and read the contents and recreate the dictionary of character names/actor names. Then, print out the dictionary.\n",
        "with open ('my_dict.text') as f:\n",
        "  contents = f.read()\n",
        "  print(contents)\n",
        "\n",
        "\n"
      ],
      "execution_count": null,
      "outputs": [
        {
          "output_type": "stream",
          "name": "stdout",
          "text": [
            "Denzel Washington:Out of Time\n",
            "Sandra Bullock:The Heat\n",
            "Megan Good:Roll Bounce\n",
            "\n"
          ]
        }
      ]
    },
    {
      "cell_type": "markdown",
      "source": [
        "# Completion"
      ],
      "metadata": {
        "id": "g4WLnS0wk371"
      }
    },
    {
      "cell_type": "markdown",
      "source": [
        "When you have completed the above two deliverables; have them signed off by a classmate or the TA."
      ],
      "metadata": {
        "id": "GlSZx2_Gkkgs"
      }
    }
  ]
}