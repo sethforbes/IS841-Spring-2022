{
  "nbformat": 4,
  "nbformat_minor": 0,
  "metadata": {
    "colab": {
      "provenance": [],
      "authorship_tag": "ABX9TyMxULie680XbLGZt4AOus2D",
      "include_colab_link": true
    },
    "kernelspec": {
      "name": "python3",
      "display_name": "Python 3"
    },
    "language_info": {
      "name": "python"
    }
  },
  "cells": [
    {
      "cell_type": "markdown",
      "metadata": {
        "id": "view-in-github",
        "colab_type": "text"
      },
      "source": [
        "<a href=\"https://colab.research.google.com/github/sethforbes/IS841-Spring-2022/blob/main/DirectedStudy.ipynb\" target=\"_parent\"><img src=\"https://colab.research.google.com/assets/colab-badge.svg\" alt=\"Open In Colab\"/></a>"
      ]
    },
    {
      "cell_type": "code",
      "execution_count": null,
      "metadata": {
        "colab": {
          "base_uri": "https://localhost:8080/",
          "height": 436
        },
        "id": "R3VUf8Ed1GKo",
        "outputId": "61eff103-3dd1-44cb-8094-4c1eb872aa08"
      },
      "outputs": [
        {
          "output_type": "stream",
          "name": "stdout",
          "text": [
            "Welcome! We're excited to assess your skills and help you identify the type of board members you need for your nonprofit.\n",
            "\n",
            "Have you already completed the skill assessment? Please enter 'yes' or 'no'.yes\n",
            "What is the email address associated with your skill assessment?seforbes@bu.edu\n",
            "That's a valid email. Thank you! Now, let's see which skills you currently have.\n"
          ]
        },
        {
          "output_type": "error",
          "ename": "FileNotFoundError",
          "evalue": "[Errno 2] No such file or directory: 'directedstudy.json'",
          "traceback": [
            "\u001b[0;31m---------------------------------------------------------------------------\u001b[0m",
            "\u001b[0;31mFileNotFoundError\u001b[0m                         Traceback (most recent call last)",
            "\u001b[0;32m<ipython-input-2-ae9de7d1c024>\u001b[0m in \u001b[0;36m<cell line: 35>\u001b[0;34m()\u001b[0m\n\u001b[1;32m     49\u001b[0m     \u001b[0mprint\u001b[0m\u001b[0;34m(\u001b[0m\u001b[0;34m\"Before we help you determine your board member profiles, we need you to complete the skill assessment. You can do that here: https://forms.gle/r63QK6aXmdb7Ksep8.\"\u001b[0m\u001b[0;34m)\u001b[0m\u001b[0;34m\u001b[0m\u001b[0;34m\u001b[0m\u001b[0m\n\u001b[1;32m     50\u001b[0m   \u001b[0;32melse\u001b[0m\u001b[0;34m:\u001b[0m\u001b[0;34m\u001b[0m\u001b[0;34m\u001b[0m\u001b[0m\n\u001b[0;32m---> 51\u001b[0;31m     \u001b[0mcheck\u001b[0m\u001b[0;34m(\u001b[0m\u001b[0;34m)\u001b[0m\u001b[0;34m\u001b[0m\u001b[0;34m\u001b[0m\u001b[0m\n\u001b[0m",
            "\u001b[0;32m<ipython-input-2-ae9de7d1c024>\u001b[0m in \u001b[0;36m__init__\u001b[0;34m(email)\u001b[0m\n\u001b[1;32m      8\u001b[0m                   \u001b[0;34m\"https://www.googleapis.com/auth/drive\"\u001b[0m\u001b[0;34m,\u001b[0m\u001b[0;34m\u001b[0m\u001b[0;34m\u001b[0m\u001b[0m\n\u001b[1;32m      9\u001b[0m                   \"https://www.googleapis.com/auth/drive\"]\n\u001b[0;32m---> 10\u001b[0;31m         \u001b[0mcred\u001b[0m \u001b[0;34m=\u001b[0m \u001b[0mServiceAccountCredentials\u001b[0m\u001b[0;34m.\u001b[0m\u001b[0mfrom_json_keyfile_name\u001b[0m\u001b[0;34m(\u001b[0m\u001b[0;34m\"directedstudy.json\"\u001b[0m\u001b[0;34m,\u001b[0m \u001b[0mscopes\u001b[0m\u001b[0;34m)\u001b[0m\u001b[0;34m\u001b[0m\u001b[0;34m\u001b[0m\u001b[0m\n\u001b[0m\u001b[1;32m     11\u001b[0m         \u001b[0mgclient\u001b[0m \u001b[0;34m=\u001b[0m \u001b[0mauthorize\u001b[0m\u001b[0;34m(\u001b[0m\u001b[0mcred\u001b[0m\u001b[0;34m)\u001b[0m\u001b[0;34m\u001b[0m\u001b[0;34m\u001b[0m\u001b[0m\n\u001b[1;32m     12\u001b[0m         \u001b[0msheet\u001b[0m \u001b[0;34m=\u001b[0m \u001b[0mgclient\u001b[0m\u001b[0;34m.\u001b[0m\u001b[0mopen\u001b[0m\u001b[0;34m(\u001b[0m\u001b[0;34m\"skills\"\u001b[0m\u001b[0;34m)\u001b[0m\u001b[0;34m.\u001b[0m\u001b[0mworksheet\u001b[0m\u001b[0;34m(\u001b[0m\u001b[0;34m\"Form Responses 1\"\u001b[0m\u001b[0;34m)\u001b[0m\u001b[0;34m\u001b[0m\u001b[0;34m\u001b[0m\u001b[0m\n",
            "\u001b[0;32m/usr/local/lib/python3.10/dist-packages/oauth2client/service_account.py\u001b[0m in \u001b[0;36mfrom_json_keyfile_name\u001b[0;34m(cls, filename, scopes, token_uri, revoke_uri)\u001b[0m\n\u001b[1;32m    217\u001b[0m                 \u001b[0mthe\u001b[0m \u001b[0mkeyfile\u001b[0m\u001b[0;34m.\u001b[0m\u001b[0;34m\u001b[0m\u001b[0;34m\u001b[0m\u001b[0m\n\u001b[1;32m    218\u001b[0m         \"\"\"\n\u001b[0;32m--> 219\u001b[0;31m         \u001b[0;32mwith\u001b[0m \u001b[0mopen\u001b[0m\u001b[0;34m(\u001b[0m\u001b[0mfilename\u001b[0m\u001b[0;34m,\u001b[0m \u001b[0;34m'r'\u001b[0m\u001b[0;34m)\u001b[0m \u001b[0;32mas\u001b[0m \u001b[0mfile_obj\u001b[0m\u001b[0;34m:\u001b[0m\u001b[0;34m\u001b[0m\u001b[0;34m\u001b[0m\u001b[0m\n\u001b[0m\u001b[1;32m    220\u001b[0m             \u001b[0mclient_credentials\u001b[0m \u001b[0;34m=\u001b[0m \u001b[0mjson\u001b[0m\u001b[0;34m.\u001b[0m\u001b[0mload\u001b[0m\u001b[0;34m(\u001b[0m\u001b[0mfile_obj\u001b[0m\u001b[0;34m)\u001b[0m\u001b[0;34m\u001b[0m\u001b[0;34m\u001b[0m\u001b[0m\n\u001b[1;32m    221\u001b[0m         return cls._from_parsed_json_keyfile(client_credentials, scopes,\n",
            "\u001b[0;31mFileNotFoundError\u001b[0m: [Errno 2] No such file or directory: 'directedstudy.json'"
          ]
        }
      ],
      "source": [
        "class check():\n",
        "  def __init__(email):\n",
        "    email = input(\"What is the email address associated with your skill assessment?\")\n",
        "    if re.match(pat,email):\n",
        "        print(\"That's a valid email. Thank you! Now, let's see which skills you currently have.\")\n",
        "        scopes = [\"https://spreadsheets.google.com/feeds\",\n",
        "                  \"https://www.googleapis.com/auth/spreadsheets\",\n",
        "                  \"https://www.googleapis.com/auth/drive\",\n",
        "                  \"https://www.googleapis.com/auth/drive\"]\n",
        "        cred = ServiceAccountCredentials.from_json_keyfile_name(\"directedstudy.json\", scopes)\n",
        "        gclient = authorize(cred)\n",
        "        sheet = gclient.open(\"skills\").worksheet(\"Form Responses 1\")\n",
        "        df = pd.DataFrame(sheet.get_all_records())\n",
        "\n",
        "        df2=df.loc[df['Email Address'] == email, 'Please select all of the skills that you have 2 years or more of experience in.']\n",
        "        print(\"This is what you've listed as currently having skillsets in: \")\n",
        "        print(\"\")\n",
        "        print(df2.item())\n",
        "        print(\"\")\n",
        "        df3=df.loc[df['Email Address'] == email, 'Which industry does your nonprofit fall under?']\n",
        "        print(\"Because your nonprofit is in the \" + df3.item() + \" industry, these are the remaining skills needed for your board:\")\n",
        "        print(\"\")\n",
        "        df_skills = gclient.open(\"unique-skills\").worksheet(\"Unique Skills\")\n",
        "        df4 = pd.DataFrame(df_skills.get_all_records())\n",
        "        skill_list = df4[df3]\n",
        "        main_list = np.setdiff1d(skill_list,df2)\n",
        "        print(*main_list, sep=\"\\n\")\n",
        "        print(\"\")\n",
        "        print(\"It's recommended that you bring onboard someone with at least 2 years of experience in one or more of these areas.\")\n",
        "\n",
        "    else:\n",
        "        print(\"Hmm, that doesn't appear to be a valid email address. Can you try again?\")\n",
        "        check()\n",
        "\n",
        "if __name__ == \"__main__\":\n",
        "  import re\n",
        "  from xlrd import open_workbook\n",
        "  from gspread import authorize\n",
        "  from oauth2client.service_account import ServiceAccountCredentials\n",
        "  import pandas as pd\n",
        "  import numpy as np\n",
        "  import openpyxl\n",
        "  pat = r'\\b[A-Za-z0-9._%+-]+@[A-Za-z0-9.-]+\\.[A-Z|a-z]{2,}\\b'\n",
        "  print(\"Welcome! We're excited to assess your skills and help you identify the type of board members you need for your nonprofit.\")\n",
        "  print(\"\")\n",
        "  new_user = input(\"Have you already completed the skill assessment? Please enter 'yes' or 'no'.\")\n",
        "\n",
        "  if new_user.lower() == \"no\":\n",
        "    print(\"Before we help you determine your board member profiles, we need you to complete the skill assessment. You can do that here: https://forms.gle/r63QK6aXmdb7Ksep8.\")\n",
        "  else:\n",
        "    check()"
      ]
    }
  ]
}