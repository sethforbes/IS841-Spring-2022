{
  "nbformat": 4,
  "nbformat_minor": 0,
  "metadata": {
    "colab": {
      "provenance": [],
      "collapsed_sections": [
        "zlz_AVSw4pA-",
        "UJx4v8S85PE9",
        "qQEQ83MNDHIu",
        "SHTCzI5T030y",
        "4HPTe28PMieo",
        "i4ftRX-O4F_q",
        "Vct07wFt4J8m",
        "-CQSFAYd4N3m",
        "3-DuGnd63YNs",
        "WC7pPgrV3d5U",
        "Bm_A9hsn2-1X",
        "6jX_GeCk3kH0",
        "lC9hD72a3qZx",
        "eF3Cr9UO32iG"
      ],
      "include_colab_link": true
    },
    "kernelspec": {
      "name": "python3",
      "display_name": "Python 3"
    }
  },
  "cells": [
    {
      "cell_type": "markdown",
      "metadata": {
        "id": "view-in-github",
        "colab_type": "text"
      },
      "source": [
        "<a href=\"https://colab.research.google.com/github/sethforbes/IS841-Spring-2022/blob/main/Forbes%2C_Seth_Part2.ipynb\" target=\"_parent\"><img src=\"https://colab.research.google.com/assets/colab-badge.svg\" alt=\"Open In Colab\"/></a>"
      ]
    },
    {
      "cell_type": "markdown",
      "source": [
        "# IS754 Lab06 Part 2"
      ],
      "metadata": {
        "id": "BLE77I1MmrsL"
      }
    },
    {
      "cell_type": "markdown",
      "metadata": {
        "id": "lC9hD72a3qZx"
      },
      "source": [
        "# Deliverable: Modifying the Cash Register Program"
      ]
    },
    {
      "cell_type": "markdown",
      "metadata": {
        "id": "076A3qP2-NKl"
      },
      "source": [
        "Below is a small program to total up the cost of items (along with tax).\n",
        "\n",
        "The program takes input from the user by using the input() function.\n",
        "\n",
        "Do the following:\n",
        "* Run the program\n",
        "* Read through the code and ensure that you understand it.\n",
        " - Pay particular attention to the while loop is used to gather the cost of different items from the user until an empty string is entered\n",
        " - Make sure you understand how if/else codeblocks are used\n",
        ""
      ]
    },
    {
      "cell_type": "code",
      "metadata": {
        "id": "Z7WSwoVr9mK9",
        "colab": {
          "base_uri": "https://localhost:8080/"
        },
        "outputId": "dbd2e588-7014-412a-fa5b-19526f91723b"
      },
      "source": [
        "# EXAMPLE PROGRAM\n",
        "# A program to calculate a cash register receipt and handle tax exempt customers\n",
        "\n",
        "# we assume tax is always 5%\n",
        "tax_rate = .0625\n",
        "\n",
        "# we start with a subtotal of zero (so we have something to add to)\n",
        "subtotal = 0\n",
        "\n",
        "# keep track of whether we are still getting data\n",
        "getting_data = True\n",
        "\n",
        "# assume customer is not tax exempt until we hear otherwise\n",
        "tax_exempt = False\n",
        "\n",
        "# first ask customer if they are tax exempt\n",
        "response = input(\"Tax exempt? (y or n): \")\n",
        "if response == \"y\":\n",
        "  tax_exempt = True\n",
        "\n",
        "# next, get items until user doesn't enter anything\n",
        "while getting_data:\n",
        "  # prompt user for item\n",
        "  item = input(\"Please Enter Item Price: \")      # if you are using python2, you would use raw_input() , however colab uses python3 by default, so we use input()\n",
        "  if item == \"\":\n",
        "    # if user didn't enter anything we are done collecting numbers\n",
        "    getting_data = False\n",
        "  else :\n",
        "    # otherwise update our running subtotal\n",
        "    subtotal = subtotal + float(item)\n",
        "\n",
        "# next calculate tax: if tax exempt, then tax is zero\n",
        "if tax_exempt:\n",
        "  tax = 0\n",
        "else:\n",
        "  tax = tax_rate * subtotal\n",
        "\n",
        "# now calculate grand total\n",
        "total = subtotal + tax\n",
        "\n",
        "# all done: print our results\n",
        "print(\"Subtotal: \", subtotal)\n",
        "print(\"Tax: \", tax)\n",
        "print(\"Total: \", total)\n",
        "\n",
        "#prompting for payment amount\n",
        "\n",
        "pmt_amount = True\n",
        "\n",
        "while pmt_amount:\n",
        "  pmt = input(\"Please enter amount of payment.\")\n",
        "  if pmt == total:\n",
        "    pmt_amount = False\n",
        "  else:\n",
        "    total = float(total)-float(pmt)\n",
        "    pmt_amount = True\n",
        "\n",
        "  if total > 0:\n",
        "    print(\"You still owe:\", total)\n",
        "  if total <= 0:\n",
        "    pmt_amount = False\n",
        "    print(\"Change returned: \", abs(total))\n",
        "    print(\"Thank you for your purchase!\")"
      ],
      "execution_count": null,
      "outputs": [
        {
          "output_type": "stream",
          "name": "stdout",
          "text": [
            "Tax exempt? (y or n): n\n",
            "Please Enter Item Price: 12\n",
            "Please Enter Item Price: 10\n",
            "Please Enter Item Price: 11\n",
            "Please Enter Item Price: \n",
            "Subtotal:  33.0\n",
            "Tax:  2.0625\n",
            "Total:  35.0625\n",
            "Please enter amount of payment.30\n",
            "You still owe: 5.0625\n",
            "Please enter amount of payment.2.50\n",
            "You still owe: 2.5625\n",
            "Please enter amount of payment.2.5625\n",
            "Change returned:  0.0\n",
            "Thank you for your purchase!\n"
          ]
        }
      ]
    },
    {
      "cell_type": "markdown",
      "metadata": {
        "id": "Z09x2eDI8Ua7"
      },
      "source": [
        "\n",
        "Modify the above code to do the following:\n",
        "\n",
        "A. Change the sales tax from 5% to 6.25%. Test your code to make sure the\n",
        "change works.\n",
        "\n",
        "B. The prompt displayed to the user for entering a sales item seems rather terse. Modify this prompt to be a bit more inviting.\n",
        "\n",
        "C. After the program displays the total, prompt the user to enter a payment\n",
        "amount. Assume that payment is in cash only. If the user pays the exact\n",
        "amount, indicate that no change is due. If the user gave more money than we\n",
        "needed, display the amount of change to be returned. If the user did not pay the\n",
        "full amount, display the balance still due and prompt the user to pay more.\n",
        "Finally, when the payment has been collected and any change dispensed,\n",
        "display a thank you message. Note that if the user pays in full there is only one\n",
        "prompt for entering the amount paid, but if the user is digging out one or two\n",
        "dollars at a time (I am imagining these bills are all crumpled up as well) then\n",
        "there may be a series of prompts until all payment has been received. Here is a\n",
        "sample of a session with multiple payments:\n",
        "```\n",
        "Tax exempt? (y or n): n\n",
        "Please enter item: 1.50\n",
        "Please enter item: 2.99\n",
        "Please enter item:\n",
        "Subtotal: 4.49\n",
        "Tax: 0.280625\n",
        "Total: 4.770625\n",
        "Please enter amount of payment: 2\n",
        "You still owe: 2.770625\n",
        "Please enter amount of payment: 1\n",
        "You still owe: 1.770625\n",
        "Please enter amount of payment: 2\n",
        "Change returned: 0.229375\n",
        "Thank you for your purchase!\n",
        "```"
      ]
    },
    {
      "cell_type": "markdown",
      "source": [
        "# When complete, get a classmate or the TA to signoff."
      ],
      "metadata": {
        "id": "g7TIWScfnXbL"
      }
    }
  ]
}